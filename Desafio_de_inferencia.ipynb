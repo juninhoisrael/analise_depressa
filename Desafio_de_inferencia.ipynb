{
  "cells": [
    {
      "cell_type": "markdown",
      "metadata": {
        "id": "view-in-github",
        "colab_type": "text"
      },
      "source": [
        "<a href=\"https://colab.research.google.com/github/juninhoisrael/juninhoisrael/blob/main/Desafio_de_inferencia.ipynb\" target=\"_parent\"><img src=\"https://colab.research.google.com/assets/colab-badge.svg\" alt=\"Open In Colab\"/></a>"
      ]
    },
    {
      "cell_type": "markdown",
      "source": [
        "**Análise Descritivas dos Bancos de Dados Fornecidos**"
      ],
      "metadata": {
        "id": "3-0rTTxiAyBc"
      }
    },
    {
      "cell_type": "code",
      "execution_count": 1,
      "metadata": {
        "colab": {
          "base_uri": "https://localhost:8080/"
        },
        "id": "mYH1JrGKxZMr",
        "outputId": "db8909c1-694b-4af4-ebbd-bc3b3b8a51c4"
      },
      "outputs": [
        {
          "output_type": "stream",
          "name": "stdout",
          "text": [
            "Mounted at /content/drive\n"
          ]
        }
      ],
      "source": [
        "from google.colab import drive # Caso a leitura desse código seja feito pelo Colab, será necessário importar do drive\n",
        "drive.mount('/content/drive')"
      ]
    },
    {
      "cell_type": "code",
      "execution_count": 63,
      "metadata": {
        "id": "MjK5D6cOx0ZJ"
      },
      "outputs": [],
      "source": [
        "import numpy as np               #bibliotecas necessárias\n",
        "import matplotlib.pyplot as plt\n",
        "import seaborn as sns\n",
        "import warnings\n",
        "warnings.filterwarnings('ignore')\n",
        "import pandas as pd\n",
        "from statsmodels.stats.multicomp import pairwise_tukeyhsd"
      ]
    },
    {
      "cell_type": "code",
      "execution_count": 3,
      "metadata": {
        "id": "4wZzVRf5yGME"
      },
      "outputs": [],
      "source": [
        "Adultos = pd.read_csv('/content/drive/MyDrive/Colab Notebooks/desafio inferencia/DEMO_PHQ.csv') #Banco de dados só com adultos\n",
        "criancas = pd.read_csv('/content/drive/MyDrive/Colab Notebooks/desafio inferencia/PAG_HEI.csv') #Dados com adultos e crianças"
      ]
    },
    {
      "cell_type": "code",
      "source": [
        "Adultos.info() # observações do arquivo dos adultos"
      ],
      "metadata": {
        "colab": {
          "base_uri": "https://localhost:8080/"
        },
        "id": "sJMASjwFyXIn",
        "outputId": "07c7bbfd-3d79-40a1-c43c-061cebd5ecc1"
      },
      "execution_count": 4,
      "outputs": [
        {
          "output_type": "stream",
          "name": "stdout",
          "text": [
            "<class 'pandas.core.frame.DataFrame'>\n",
            "RangeIndex: 5334 entries, 0 to 5333\n",
            "Data columns (total 15 columns):\n",
            " #   Column    Non-Null Count  Dtype  \n",
            "---  ------    --------------  -----  \n",
            " 0   SEQN      5334 non-null   int64  \n",
            " 1   DPQ010    4836 non-null   float64\n",
            " 2   DPQ020    4836 non-null   float64\n",
            " 3   DPQ030    4836 non-null   float64\n",
            " 4   DPQ040    4836 non-null   float64\n",
            " 5   DPQ050    4836 non-null   float64\n",
            " 6   DPQ060    4836 non-null   float64\n",
            " 7   DPQ070    4836 non-null   float64\n",
            " 8   DPQ080    4836 non-null   float64\n",
            " 9   DPQ090    4836 non-null   float64\n",
            " 10  RIAGENDR  5334 non-null   int64  \n",
            " 11  RIDAGEYR  5334 non-null   int64  \n",
            " 12  RIDRETH1  5334 non-null   int64  \n",
            " 13  DMDEDUC   5334 non-null   int64  \n",
            " 14  INDFMINC  5287 non-null   float64\n",
            "dtypes: float64(10), int64(5)\n",
            "memory usage: 625.2 KB\n"
          ]
        }
      ]
    },
    {
      "cell_type": "code",
      "source": [
        "Adultos.head()"
      ],
      "metadata": {
        "colab": {
          "base_uri": "https://localhost:8080/",
          "height": 206
        },
        "id": "YOYqnRkOy8Xt",
        "outputId": "762e7700-2141-492e-e8b1-3cb7db2bc678"
      },
      "execution_count": 5,
      "outputs": [
        {
          "output_type": "execute_result",
          "data": {
            "text/html": [
              "\n",
              "  <div id=\"df-f08ac71f-4f5e-458e-a248-83542e9e642e\">\n",
              "    <div class=\"colab-df-container\">\n",
              "      <div>\n",
              "<style scoped>\n",
              "    .dataframe tbody tr th:only-of-type {\n",
              "        vertical-align: middle;\n",
              "    }\n",
              "\n",
              "    .dataframe tbody tr th {\n",
              "        vertical-align: top;\n",
              "    }\n",
              "\n",
              "    .dataframe thead th {\n",
              "        text-align: right;\n",
              "    }\n",
              "</style>\n",
              "<table border=\"1\" class=\"dataframe\">\n",
              "  <thead>\n",
              "    <tr style=\"text-align: right;\">\n",
              "      <th></th>\n",
              "      <th>SEQN</th>\n",
              "      <th>DPQ010</th>\n",
              "      <th>DPQ020</th>\n",
              "      <th>DPQ030</th>\n",
              "      <th>DPQ040</th>\n",
              "      <th>DPQ050</th>\n",
              "      <th>DPQ060</th>\n",
              "      <th>DPQ070</th>\n",
              "      <th>DPQ080</th>\n",
              "      <th>DPQ090</th>\n",
              "      <th>RIAGENDR</th>\n",
              "      <th>RIDAGEYR</th>\n",
              "      <th>RIDRETH1</th>\n",
              "      <th>DMDEDUC</th>\n",
              "      <th>INDFMINC</th>\n",
              "    </tr>\n",
              "  </thead>\n",
              "  <tbody>\n",
              "    <tr>\n",
              "      <th>0</th>\n",
              "      <td>31130</td>\n",
              "      <td>NaN</td>\n",
              "      <td>NaN</td>\n",
              "      <td>NaN</td>\n",
              "      <td>NaN</td>\n",
              "      <td>NaN</td>\n",
              "      <td>NaN</td>\n",
              "      <td>NaN</td>\n",
              "      <td>NaN</td>\n",
              "      <td>NaN</td>\n",
              "      <td>2</td>\n",
              "      <td>85</td>\n",
              "      <td>3</td>\n",
              "      <td>4</td>\n",
              "      <td>4.0</td>\n",
              "    </tr>\n",
              "    <tr>\n",
              "      <th>1</th>\n",
              "      <td>31131</td>\n",
              "      <td>0.0</td>\n",
              "      <td>0.0</td>\n",
              "      <td>0.0</td>\n",
              "      <td>0.0</td>\n",
              "      <td>0.0</td>\n",
              "      <td>0.0</td>\n",
              "      <td>0.0</td>\n",
              "      <td>0.0</td>\n",
              "      <td>0.0</td>\n",
              "      <td>2</td>\n",
              "      <td>44</td>\n",
              "      <td>4</td>\n",
              "      <td>4</td>\n",
              "      <td>11.0</td>\n",
              "    </tr>\n",
              "    <tr>\n",
              "      <th>2</th>\n",
              "      <td>31132</td>\n",
              "      <td>0.0</td>\n",
              "      <td>0.0</td>\n",
              "      <td>0.0</td>\n",
              "      <td>0.0</td>\n",
              "      <td>0.0</td>\n",
              "      <td>0.0</td>\n",
              "      <td>0.0</td>\n",
              "      <td>0.0</td>\n",
              "      <td>0.0</td>\n",
              "      <td>1</td>\n",
              "      <td>70</td>\n",
              "      <td>3</td>\n",
              "      <td>5</td>\n",
              "      <td>11.0</td>\n",
              "    </tr>\n",
              "    <tr>\n",
              "      <th>3</th>\n",
              "      <td>31134</td>\n",
              "      <td>0.0</td>\n",
              "      <td>0.0</td>\n",
              "      <td>0.0</td>\n",
              "      <td>0.0</td>\n",
              "      <td>0.0</td>\n",
              "      <td>0.0</td>\n",
              "      <td>0.0</td>\n",
              "      <td>0.0</td>\n",
              "      <td>0.0</td>\n",
              "      <td>1</td>\n",
              "      <td>73</td>\n",
              "      <td>3</td>\n",
              "      <td>3</td>\n",
              "      <td>12.0</td>\n",
              "    </tr>\n",
              "    <tr>\n",
              "      <th>4</th>\n",
              "      <td>31139</td>\n",
              "      <td>0.0</td>\n",
              "      <td>0.0</td>\n",
              "      <td>0.0</td>\n",
              "      <td>0.0</td>\n",
              "      <td>3.0</td>\n",
              "      <td>1.0</td>\n",
              "      <td>0.0</td>\n",
              "      <td>0.0</td>\n",
              "      <td>0.0</td>\n",
              "      <td>2</td>\n",
              "      <td>18</td>\n",
              "      <td>2</td>\n",
              "      <td>3</td>\n",
              "      <td>11.0</td>\n",
              "    </tr>\n",
              "  </tbody>\n",
              "</table>\n",
              "</div>\n",
              "      <button class=\"colab-df-convert\" onclick=\"convertToInteractive('df-f08ac71f-4f5e-458e-a248-83542e9e642e')\"\n",
              "              title=\"Convert this dataframe to an interactive table.\"\n",
              "              style=\"display:none;\">\n",
              "        \n",
              "  <svg xmlns=\"http://www.w3.org/2000/svg\" height=\"24px\"viewBox=\"0 0 24 24\"\n",
              "       width=\"24px\">\n",
              "    <path d=\"M0 0h24v24H0V0z\" fill=\"none\"/>\n",
              "    <path d=\"M18.56 5.44l.94 2.06.94-2.06 2.06-.94-2.06-.94-.94-2.06-.94 2.06-2.06.94zm-11 1L8.5 8.5l.94-2.06 2.06-.94-2.06-.94L8.5 2.5l-.94 2.06-2.06.94zm10 10l.94 2.06.94-2.06 2.06-.94-2.06-.94-.94-2.06-.94 2.06-2.06.94z\"/><path d=\"M17.41 7.96l-1.37-1.37c-.4-.4-.92-.59-1.43-.59-.52 0-1.04.2-1.43.59L10.3 9.45l-7.72 7.72c-.78.78-.78 2.05 0 2.83L4 21.41c.39.39.9.59 1.41.59.51 0 1.02-.2 1.41-.59l7.78-7.78 2.81-2.81c.8-.78.8-2.07 0-2.86zM5.41 20L4 18.59l7.72-7.72 1.47 1.35L5.41 20z\"/>\n",
              "  </svg>\n",
              "      </button>\n",
              "      \n",
              "  <style>\n",
              "    .colab-df-container {\n",
              "      display:flex;\n",
              "      flex-wrap:wrap;\n",
              "      gap: 12px;\n",
              "    }\n",
              "\n",
              "    .colab-df-convert {\n",
              "      background-color: #E8F0FE;\n",
              "      border: none;\n",
              "      border-radius: 50%;\n",
              "      cursor: pointer;\n",
              "      display: none;\n",
              "      fill: #1967D2;\n",
              "      height: 32px;\n",
              "      padding: 0 0 0 0;\n",
              "      width: 32px;\n",
              "    }\n",
              "\n",
              "    .colab-df-convert:hover {\n",
              "      background-color: #E2EBFA;\n",
              "      box-shadow: 0px 1px 2px rgba(60, 64, 67, 0.3), 0px 1px 3px 1px rgba(60, 64, 67, 0.15);\n",
              "      fill: #174EA6;\n",
              "    }\n",
              "\n",
              "    [theme=dark] .colab-df-convert {\n",
              "      background-color: #3B4455;\n",
              "      fill: #D2E3FC;\n",
              "    }\n",
              "\n",
              "    [theme=dark] .colab-df-convert:hover {\n",
              "      background-color: #434B5C;\n",
              "      box-shadow: 0px 1px 3px 1px rgba(0, 0, 0, 0.15);\n",
              "      filter: drop-shadow(0px 1px 2px rgba(0, 0, 0, 0.3));\n",
              "      fill: #FFFFFF;\n",
              "    }\n",
              "  </style>\n",
              "\n",
              "      <script>\n",
              "        const buttonEl =\n",
              "          document.querySelector('#df-f08ac71f-4f5e-458e-a248-83542e9e642e button.colab-df-convert');\n",
              "        buttonEl.style.display =\n",
              "          google.colab.kernel.accessAllowed ? 'block' : 'none';\n",
              "\n",
              "        async function convertToInteractive(key) {\n",
              "          const element = document.querySelector('#df-f08ac71f-4f5e-458e-a248-83542e9e642e');\n",
              "          const dataTable =\n",
              "            await google.colab.kernel.invokeFunction('convertToInteractive',\n",
              "                                                     [key], {});\n",
              "          if (!dataTable) return;\n",
              "\n",
              "          const docLinkHtml = 'Like what you see? Visit the ' +\n",
              "            '<a target=\"_blank\" href=https://colab.research.google.com/notebooks/data_table.ipynb>data table notebook</a>'\n",
              "            + ' to learn more about interactive tables.';\n",
              "          element.innerHTML = '';\n",
              "          dataTable['output_type'] = 'display_data';\n",
              "          await google.colab.output.renderOutput(dataTable, element);\n",
              "          const docLink = document.createElement('div');\n",
              "          docLink.innerHTML = docLinkHtml;\n",
              "          element.appendChild(docLink);\n",
              "        }\n",
              "      </script>\n",
              "    </div>\n",
              "  </div>\n",
              "  "
            ],
            "text/plain": [
              "    SEQN  DPQ010  DPQ020  DPQ030  ...  RIDAGEYR  RIDRETH1  DMDEDUC  INDFMINC\n",
              "0  31130     NaN     NaN     NaN  ...        85         3        4       4.0\n",
              "1  31131     0.0     0.0     0.0  ...        44         4        4      11.0\n",
              "2  31132     0.0     0.0     0.0  ...        70         3        5      11.0\n",
              "3  31134     0.0     0.0     0.0  ...        73         3        3      12.0\n",
              "4  31139     0.0     0.0     0.0  ...        18         2        3      11.0\n",
              "\n",
              "[5 rows x 15 columns]"
            ]
          },
          "metadata": {},
          "execution_count": 5
        }
      ]
    },
    {
      "cell_type": "code",
      "source": [
        "criancas.info()"
      ],
      "metadata": {
        "colab": {
          "base_uri": "https://localhost:8080/"
        },
        "id": "76t7l2dZyl59",
        "outputId": "38dde0d5-0bcb-4904-8789-20f83753c32d"
      },
      "execution_count": 6,
      "outputs": [
        {
          "output_type": "stream",
          "name": "stdout",
          "text": [
            "<class 'pandas.core.frame.DataFrame'>\n",
            "RangeIndex: 9424 entries, 0 to 9423\n",
            "Data columns (total 17 columns):\n",
            " #   Column                    Non-Null Count  Dtype  \n",
            "---  ------                    --------------  -----  \n",
            " 0   SEQN                      9424 non-null   int64  \n",
            " 1   PAG_MINW                  7150 non-null   float64\n",
            " 2   ADHERENCE                 7150 non-null   float64\n",
            " 3   HEI2015C1_TOTALVEG        8549 non-null   float64\n",
            " 4   HEI2015C2_GREEN_AND_BEAN  8549 non-null   float64\n",
            " 5   HEI2015C3_TOTALFRUIT      8549 non-null   float64\n",
            " 6   HEI2015C4_WHOLEFRUIT      8549 non-null   float64\n",
            " 7   HEI2015C5_WHOLEGRAIN      8549 non-null   float64\n",
            " 8   HEI2015C6_TOTALDAIRY      8549 non-null   float64\n",
            " 9   HEI2015C7_TOTPROT         8549 non-null   float64\n",
            " 10  HEI2015C8_SEAPLANT_PROT   8549 non-null   float64\n",
            " 11  HEI2015C9_FATTYACID       8549 non-null   float64\n",
            " 12  HEI2015C10_SODIUM         8549 non-null   float64\n",
            " 13  HEI2015C11_REFINEDGRAIN   8549 non-null   float64\n",
            " 14  HEI2015C12_SFAT           8549 non-null   float64\n",
            " 15  HEI2015C13_ADDSUG         8549 non-null   float64\n",
            " 16  HEI2015_TOTAL_SCORE       8549 non-null   float64\n",
            "dtypes: float64(16), int64(1)\n",
            "memory usage: 1.2 MB\n"
          ]
        }
      ]
    },
    {
      "cell_type": "code",
      "source": [
        "criancas.head()"
      ],
      "metadata": {
        "colab": {
          "base_uri": "https://localhost:8080/",
          "height": 270
        },
        "id": "X4sasKgOzBOU",
        "outputId": "46348461-47be-4bc3-f113-e699a08aadd3"
      },
      "execution_count": 7,
      "outputs": [
        {
          "output_type": "execute_result",
          "data": {
            "text/html": [
              "\n",
              "  <div id=\"df-55e1d894-fec2-4700-90a1-ad968ddb4163\">\n",
              "    <div class=\"colab-df-container\">\n",
              "      <div>\n",
              "<style scoped>\n",
              "    .dataframe tbody tr th:only-of-type {\n",
              "        vertical-align: middle;\n",
              "    }\n",
              "\n",
              "    .dataframe tbody tr th {\n",
              "        vertical-align: top;\n",
              "    }\n",
              "\n",
              "    .dataframe thead th {\n",
              "        text-align: right;\n",
              "    }\n",
              "</style>\n",
              "<table border=\"1\" class=\"dataframe\">\n",
              "  <thead>\n",
              "    <tr style=\"text-align: right;\">\n",
              "      <th></th>\n",
              "      <th>SEQN</th>\n",
              "      <th>PAG_MINW</th>\n",
              "      <th>ADHERENCE</th>\n",
              "      <th>HEI2015C1_TOTALVEG</th>\n",
              "      <th>HEI2015C2_GREEN_AND_BEAN</th>\n",
              "      <th>HEI2015C3_TOTALFRUIT</th>\n",
              "      <th>HEI2015C4_WHOLEFRUIT</th>\n",
              "      <th>HEI2015C5_WHOLEGRAIN</th>\n",
              "      <th>HEI2015C6_TOTALDAIRY</th>\n",
              "      <th>HEI2015C7_TOTPROT</th>\n",
              "      <th>HEI2015C8_SEAPLANT_PROT</th>\n",
              "      <th>HEI2015C9_FATTYACID</th>\n",
              "      <th>HEI2015C10_SODIUM</th>\n",
              "      <th>HEI2015C11_REFINEDGRAIN</th>\n",
              "      <th>HEI2015C12_SFAT</th>\n",
              "      <th>HEI2015C13_ADDSUG</th>\n",
              "      <th>HEI2015_TOTAL_SCORE</th>\n",
              "    </tr>\n",
              "  </thead>\n",
              "  <tbody>\n",
              "    <tr>\n",
              "      <th>0</th>\n",
              "      <td>31128</td>\n",
              "      <td>NaN</td>\n",
              "      <td>NaN</td>\n",
              "      <td>3.083350</td>\n",
              "      <td>0.0</td>\n",
              "      <td>3.927008</td>\n",
              "      <td>5.000000</td>\n",
              "      <td>0.000000</td>\n",
              "      <td>5.000000</td>\n",
              "      <td>4.251329</td>\n",
              "      <td>0.000000</td>\n",
              "      <td>2.487572</td>\n",
              "      <td>6.911882</td>\n",
              "      <td>10.000000</td>\n",
              "      <td>0.818029</td>\n",
              "      <td>6.408092</td>\n",
              "      <td>47.887262</td>\n",
              "    </tr>\n",
              "    <tr>\n",
              "      <th>1</th>\n",
              "      <td>31129</td>\n",
              "      <td>285.450346</td>\n",
              "      <td>2.0</td>\n",
              "      <td>1.697761</td>\n",
              "      <td>0.0</td>\n",
              "      <td>3.731602</td>\n",
              "      <td>4.929186</td>\n",
              "      <td>0.527631</td>\n",
              "      <td>3.887809</td>\n",
              "      <td>4.693141</td>\n",
              "      <td>0.928562</td>\n",
              "      <td>3.740758</td>\n",
              "      <td>6.146441</td>\n",
              "      <td>7.274979</td>\n",
              "      <td>8.006457</td>\n",
              "      <td>0.000000</td>\n",
              "      <td>45.564326</td>\n",
              "    </tr>\n",
              "    <tr>\n",
              "      <th>2</th>\n",
              "      <td>31130</td>\n",
              "      <td>0.000000</td>\n",
              "      <td>1.0</td>\n",
              "      <td>NaN</td>\n",
              "      <td>NaN</td>\n",
              "      <td>NaN</td>\n",
              "      <td>NaN</td>\n",
              "      <td>NaN</td>\n",
              "      <td>NaN</td>\n",
              "      <td>NaN</td>\n",
              "      <td>NaN</td>\n",
              "      <td>NaN</td>\n",
              "      <td>NaN</td>\n",
              "      <td>NaN</td>\n",
              "      <td>NaN</td>\n",
              "      <td>NaN</td>\n",
              "      <td>NaN</td>\n",
              "    </tr>\n",
              "    <tr>\n",
              "      <th>3</th>\n",
              "      <td>31131</td>\n",
              "      <td>264.711316</td>\n",
              "      <td>2.0</td>\n",
              "      <td>3.115103</td>\n",
              "      <td>0.0</td>\n",
              "      <td>5.000000</td>\n",
              "      <td>1.320674</td>\n",
              "      <td>0.000000</td>\n",
              "      <td>3.141062</td>\n",
              "      <td>4.071959</td>\n",
              "      <td>2.052399</td>\n",
              "      <td>0.684985</td>\n",
              "      <td>2.297100</td>\n",
              "      <td>9.512964</td>\n",
              "      <td>0.438428</td>\n",
              "      <td>3.919226</td>\n",
              "      <td>35.553899</td>\n",
              "    </tr>\n",
              "    <tr>\n",
              "      <th>4</th>\n",
              "      <td>31132</td>\n",
              "      <td>1353.348730</td>\n",
              "      <td>3.0</td>\n",
              "      <td>3.509081</td>\n",
              "      <td>0.0</td>\n",
              "      <td>5.000000</td>\n",
              "      <td>5.000000</td>\n",
              "      <td>5.000000</td>\n",
              "      <td>4.448512</td>\n",
              "      <td>5.000000</td>\n",
              "      <td>0.000000</td>\n",
              "      <td>2.050769</td>\n",
              "      <td>7.369489</td>\n",
              "      <td>8.887880</td>\n",
              "      <td>8.186877</td>\n",
              "      <td>9.099088</td>\n",
              "      <td>63.551696</td>\n",
              "    </tr>\n",
              "  </tbody>\n",
              "</table>\n",
              "</div>\n",
              "      <button class=\"colab-df-convert\" onclick=\"convertToInteractive('df-55e1d894-fec2-4700-90a1-ad968ddb4163')\"\n",
              "              title=\"Convert this dataframe to an interactive table.\"\n",
              "              style=\"display:none;\">\n",
              "        \n",
              "  <svg xmlns=\"http://www.w3.org/2000/svg\" height=\"24px\"viewBox=\"0 0 24 24\"\n",
              "       width=\"24px\">\n",
              "    <path d=\"M0 0h24v24H0V0z\" fill=\"none\"/>\n",
              "    <path d=\"M18.56 5.44l.94 2.06.94-2.06 2.06-.94-2.06-.94-.94-2.06-.94 2.06-2.06.94zm-11 1L8.5 8.5l.94-2.06 2.06-.94-2.06-.94L8.5 2.5l-.94 2.06-2.06.94zm10 10l.94 2.06.94-2.06 2.06-.94-2.06-.94-.94-2.06-.94 2.06-2.06.94z\"/><path d=\"M17.41 7.96l-1.37-1.37c-.4-.4-.92-.59-1.43-.59-.52 0-1.04.2-1.43.59L10.3 9.45l-7.72 7.72c-.78.78-.78 2.05 0 2.83L4 21.41c.39.39.9.59 1.41.59.51 0 1.02-.2 1.41-.59l7.78-7.78 2.81-2.81c.8-.78.8-2.07 0-2.86zM5.41 20L4 18.59l7.72-7.72 1.47 1.35L5.41 20z\"/>\n",
              "  </svg>\n",
              "      </button>\n",
              "      \n",
              "  <style>\n",
              "    .colab-df-container {\n",
              "      display:flex;\n",
              "      flex-wrap:wrap;\n",
              "      gap: 12px;\n",
              "    }\n",
              "\n",
              "    .colab-df-convert {\n",
              "      background-color: #E8F0FE;\n",
              "      border: none;\n",
              "      border-radius: 50%;\n",
              "      cursor: pointer;\n",
              "      display: none;\n",
              "      fill: #1967D2;\n",
              "      height: 32px;\n",
              "      padding: 0 0 0 0;\n",
              "      width: 32px;\n",
              "    }\n",
              "\n",
              "    .colab-df-convert:hover {\n",
              "      background-color: #E2EBFA;\n",
              "      box-shadow: 0px 1px 2px rgba(60, 64, 67, 0.3), 0px 1px 3px 1px rgba(60, 64, 67, 0.15);\n",
              "      fill: #174EA6;\n",
              "    }\n",
              "\n",
              "    [theme=dark] .colab-df-convert {\n",
              "      background-color: #3B4455;\n",
              "      fill: #D2E3FC;\n",
              "    }\n",
              "\n",
              "    [theme=dark] .colab-df-convert:hover {\n",
              "      background-color: #434B5C;\n",
              "      box-shadow: 0px 1px 3px 1px rgba(0, 0, 0, 0.15);\n",
              "      filter: drop-shadow(0px 1px 2px rgba(0, 0, 0, 0.3));\n",
              "      fill: #FFFFFF;\n",
              "    }\n",
              "  </style>\n",
              "\n",
              "      <script>\n",
              "        const buttonEl =\n",
              "          document.querySelector('#df-55e1d894-fec2-4700-90a1-ad968ddb4163 button.colab-df-convert');\n",
              "        buttonEl.style.display =\n",
              "          google.colab.kernel.accessAllowed ? 'block' : 'none';\n",
              "\n",
              "        async function convertToInteractive(key) {\n",
              "          const element = document.querySelector('#df-55e1d894-fec2-4700-90a1-ad968ddb4163');\n",
              "          const dataTable =\n",
              "            await google.colab.kernel.invokeFunction('convertToInteractive',\n",
              "                                                     [key], {});\n",
              "          if (!dataTable) return;\n",
              "\n",
              "          const docLinkHtml = 'Like what you see? Visit the ' +\n",
              "            '<a target=\"_blank\" href=https://colab.research.google.com/notebooks/data_table.ipynb>data table notebook</a>'\n",
              "            + ' to learn more about interactive tables.';\n",
              "          element.innerHTML = '';\n",
              "          dataTable['output_type'] = 'display_data';\n",
              "          await google.colab.output.renderOutput(dataTable, element);\n",
              "          const docLink = document.createElement('div');\n",
              "          docLink.innerHTML = docLinkHtml;\n",
              "          element.appendChild(docLink);\n",
              "        }\n",
              "      </script>\n",
              "    </div>\n",
              "  </div>\n",
              "  "
            ],
            "text/plain": [
              "    SEQN     PAG_MINW  ...  HEI2015C13_ADDSUG  HEI2015_TOTAL_SCORE\n",
              "0  31128          NaN  ...           6.408092            47.887262\n",
              "1  31129   285.450346  ...           0.000000            45.564326\n",
              "2  31130     0.000000  ...                NaN                  NaN\n",
              "3  31131   264.711316  ...           3.919226            35.553899\n",
              "4  31132  1353.348730  ...           9.099088            63.551696\n",
              "\n",
              "[5 rows x 17 columns]"
            ]
          },
          "metadata": {},
          "execution_count": 7
        }
      ]
    },
    {
      "cell_type": "code",
      "execution_count": 8,
      "metadata": {
        "id": "4V_jOVDs3Fua"
      },
      "outputs": [],
      "source": [
        "combinaçao = Adultos.merge(criancas,  how = 'left', on = 'SEQN') #foi necessáario agrupar alguns dados, mas a análise em questão será direcionada aos adultos."
      ]
    },
    {
      "cell_type": "code",
      "execution_count": 9,
      "metadata": {
        "colab": {
          "base_uri": "https://localhost:8080/"
        },
        "id": "DqwjCz623o91",
        "outputId": "767069bb-35b9-4b57-b19b-40d17afd609e"
      },
      "outputs": [
        {
          "output_type": "stream",
          "name": "stdout",
          "text": [
            "<class 'pandas.core.frame.DataFrame'>\n",
            "Int64Index: 5334 entries, 0 to 5333\n",
            "Data columns (total 31 columns):\n",
            " #   Column                    Non-Null Count  Dtype  \n",
            "---  ------                    --------------  -----  \n",
            " 0   SEQN                      5334 non-null   int64  \n",
            " 1   DPQ010                    4836 non-null   float64\n",
            " 2   DPQ020                    4836 non-null   float64\n",
            " 3   DPQ030                    4836 non-null   float64\n",
            " 4   DPQ040                    4836 non-null   float64\n",
            " 5   DPQ050                    4836 non-null   float64\n",
            " 6   DPQ060                    4836 non-null   float64\n",
            " 7   DPQ070                    4836 non-null   float64\n",
            " 8   DPQ080                    4836 non-null   float64\n",
            " 9   DPQ090                    4836 non-null   float64\n",
            " 10  RIAGENDR                  5334 non-null   int64  \n",
            " 11  RIDAGEYR                  5334 non-null   int64  \n",
            " 12  RIDRETH1                  5334 non-null   int64  \n",
            " 13  DMDEDUC                   5334 non-null   int64  \n",
            " 14  INDFMINC                  5287 non-null   float64\n",
            " 15  PAG_MINW                  5334 non-null   float64\n",
            " 16  ADHERENCE                 5334 non-null   float64\n",
            " 17  HEI2015C1_TOTALVEG        5060 non-null   float64\n",
            " 18  HEI2015C2_GREEN_AND_BEAN  5060 non-null   float64\n",
            " 19  HEI2015C3_TOTALFRUIT      5060 non-null   float64\n",
            " 20  HEI2015C4_WHOLEFRUIT      5060 non-null   float64\n",
            " 21  HEI2015C5_WHOLEGRAIN      5060 non-null   float64\n",
            " 22  HEI2015C6_TOTALDAIRY      5060 non-null   float64\n",
            " 23  HEI2015C7_TOTPROT         5060 non-null   float64\n",
            " 24  HEI2015C8_SEAPLANT_PROT   5060 non-null   float64\n",
            " 25  HEI2015C9_FATTYACID       5060 non-null   float64\n",
            " 26  HEI2015C10_SODIUM         5060 non-null   float64\n",
            " 27  HEI2015C11_REFINEDGRAIN   5060 non-null   float64\n",
            " 28  HEI2015C12_SFAT           5060 non-null   float64\n",
            " 29  HEI2015C13_ADDSUG         5060 non-null   float64\n",
            " 30  HEI2015_TOTAL_SCORE       5060 non-null   float64\n",
            "dtypes: float64(26), int64(5)\n",
            "memory usage: 1.3 MB\n"
          ]
        }
      ],
      "source": [
        "combinaçao.info() # Observaões da combinação entre os dois arquivos"
      ]
    },
    {
      "cell_type": "markdown",
      "source": [
        "**Tratamento de Dados**"
      ],
      "metadata": {
        "id": "hWt6ckdHFGcf"
      }
    },
    {
      "cell_type": "code",
      "source": [
        "combinaçao.isnull().mean().round(4)*100  #observarções  dos missings"
      ],
      "metadata": {
        "colab": {
          "base_uri": "https://localhost:8080/"
        },
        "id": "B_WcTc-V29aM",
        "outputId": "e09dfc25-86f2-4334-a94f-d86696ba5a7d"
      },
      "execution_count": 10,
      "outputs": [
        {
          "output_type": "execute_result",
          "data": {
            "text/plain": [
              "SEQN                        0.00\n",
              "DPQ010                      9.34\n",
              "DPQ020                      9.34\n",
              "DPQ030                      9.34\n",
              "DPQ040                      9.34\n",
              "DPQ050                      9.34\n",
              "DPQ060                      9.34\n",
              "DPQ070                      9.34\n",
              "DPQ080                      9.34\n",
              "DPQ090                      9.34\n",
              "RIAGENDR                    0.00\n",
              "RIDAGEYR                    0.00\n",
              "RIDRETH1                    0.00\n",
              "DMDEDUC                     0.00\n",
              "INDFMINC                    0.88\n",
              "PAG_MINW                    0.00\n",
              "ADHERENCE                   0.00\n",
              "HEI2015C1_TOTALVEG          5.14\n",
              "HEI2015C2_GREEN_AND_BEAN    5.14\n",
              "HEI2015C3_TOTALFRUIT        5.14\n",
              "HEI2015C4_WHOLEFRUIT        5.14\n",
              "HEI2015C5_WHOLEGRAIN        5.14\n",
              "HEI2015C6_TOTALDAIRY        5.14\n",
              "HEI2015C7_TOTPROT           5.14\n",
              "HEI2015C8_SEAPLANT_PROT     5.14\n",
              "HEI2015C9_FATTYACID         5.14\n",
              "HEI2015C10_SODIUM           5.14\n",
              "HEI2015C11_REFINEDGRAIN     5.14\n",
              "HEI2015C12_SFAT             5.14\n",
              "HEI2015C13_ADDSUG           5.14\n",
              "HEI2015_TOTAL_SCORE         5.14\n",
              "dtype: float64"
            ]
          },
          "metadata": {},
          "execution_count": 10
        }
      ]
    },
    {
      "cell_type": "code",
      "source": [
        "combinaçao.drop(columns=['SEQN']).describe(percentiles=[.01,.05,.25,.5,.75,.95,.99]).round(2) # ver a distribuiçao do banco de dados com duas casas decimais.\n",
        "                                                                                      # Observar algo estranho na coluna ADHERENCE. a  discrepância entre o valor máximo e o percentil 99%"
      ],
      "metadata": {
        "colab": {
          "base_uri": "https://localhost:8080/",
          "height": 490
        },
        "id": "ZKmmMcF83a8s",
        "outputId": "551d0682-ad48-430b-cd5c-2755d2dae87b"
      },
      "execution_count": 11,
      "outputs": [
        {
          "output_type": "execute_result",
          "data": {
            "text/html": [
              "\n",
              "  <div id=\"df-e3124e1c-5540-4e70-ac9d-0a30fa07b2ef\">\n",
              "    <div class=\"colab-df-container\">\n",
              "      <div>\n",
              "<style scoped>\n",
              "    .dataframe tbody tr th:only-of-type {\n",
              "        vertical-align: middle;\n",
              "    }\n",
              "\n",
              "    .dataframe tbody tr th {\n",
              "        vertical-align: top;\n",
              "    }\n",
              "\n",
              "    .dataframe thead th {\n",
              "        text-align: right;\n",
              "    }\n",
              "</style>\n",
              "<table border=\"1\" class=\"dataframe\">\n",
              "  <thead>\n",
              "    <tr style=\"text-align: right;\">\n",
              "      <th></th>\n",
              "      <th>DPQ010</th>\n",
              "      <th>DPQ020</th>\n",
              "      <th>DPQ030</th>\n",
              "      <th>DPQ040</th>\n",
              "      <th>DPQ050</th>\n",
              "      <th>DPQ060</th>\n",
              "      <th>DPQ070</th>\n",
              "      <th>DPQ080</th>\n",
              "      <th>DPQ090</th>\n",
              "      <th>RIAGENDR</th>\n",
              "      <th>RIDAGEYR</th>\n",
              "      <th>RIDRETH1</th>\n",
              "      <th>DMDEDUC</th>\n",
              "      <th>INDFMINC</th>\n",
              "      <th>PAG_MINW</th>\n",
              "      <th>ADHERENCE</th>\n",
              "      <th>HEI2015C1_TOTALVEG</th>\n",
              "      <th>HEI2015C2_GREEN_AND_BEAN</th>\n",
              "      <th>HEI2015C3_TOTALFRUIT</th>\n",
              "      <th>HEI2015C4_WHOLEFRUIT</th>\n",
              "      <th>HEI2015C5_WHOLEGRAIN</th>\n",
              "      <th>HEI2015C6_TOTALDAIRY</th>\n",
              "      <th>HEI2015C7_TOTPROT</th>\n",
              "      <th>HEI2015C8_SEAPLANT_PROT</th>\n",
              "      <th>HEI2015C9_FATTYACID</th>\n",
              "      <th>HEI2015C10_SODIUM</th>\n",
              "      <th>HEI2015C11_REFINEDGRAIN</th>\n",
              "      <th>HEI2015C12_SFAT</th>\n",
              "      <th>HEI2015C13_ADDSUG</th>\n",
              "      <th>HEI2015_TOTAL_SCORE</th>\n",
              "    </tr>\n",
              "  </thead>\n",
              "  <tbody>\n",
              "    <tr>\n",
              "      <th>count</th>\n",
              "      <td>4836.00</td>\n",
              "      <td>4836.00</td>\n",
              "      <td>4836.00</td>\n",
              "      <td>4836.00</td>\n",
              "      <td>4836.00</td>\n",
              "      <td>4836.00</td>\n",
              "      <td>4836.00</td>\n",
              "      <td>4836.00</td>\n",
              "      <td>4836.00</td>\n",
              "      <td>5334.00</td>\n",
              "      <td>5334.00</td>\n",
              "      <td>5334.00</td>\n",
              "      <td>5334.00</td>\n",
              "      <td>5287.00</td>\n",
              "      <td>5334.00</td>\n",
              "      <td>5334.00</td>\n",
              "      <td>5060.00</td>\n",
              "      <td>5060.00</td>\n",
              "      <td>5060.00</td>\n",
              "      <td>5060.00</td>\n",
              "      <td>5060.00</td>\n",
              "      <td>5060.00</td>\n",
              "      <td>5060.00</td>\n",
              "      <td>5060.00</td>\n",
              "      <td>5060.00</td>\n",
              "      <td>5060.00</td>\n",
              "      <td>5060.00</td>\n",
              "      <td>5060.00</td>\n",
              "      <td>5060.00</td>\n",
              "      <td>5060.00</td>\n",
              "    </tr>\n",
              "    <tr>\n",
              "      <th>mean</th>\n",
              "      <td>0.31</td>\n",
              "      <td>0.31</td>\n",
              "      <td>0.55</td>\n",
              "      <td>0.72</td>\n",
              "      <td>0.32</td>\n",
              "      <td>0.21</td>\n",
              "      <td>0.23</td>\n",
              "      <td>0.15</td>\n",
              "      <td>0.05</td>\n",
              "      <td>1.52</td>\n",
              "      <td>45.09</td>\n",
              "      <td>2.87</td>\n",
              "      <td>3.23</td>\n",
              "      <td>8.74</td>\n",
              "      <td>471.77</td>\n",
              "      <td>1.98</td>\n",
              "      <td>3.20</td>\n",
              "      <td>1.81</td>\n",
              "      <td>2.49</td>\n",
              "      <td>2.36</td>\n",
              "      <td>1.76</td>\n",
              "      <td>3.76</td>\n",
              "      <td>4.43</td>\n",
              "      <td>2.59</td>\n",
              "      <td>4.71</td>\n",
              "      <td>4.76</td>\n",
              "      <td>5.80</td>\n",
              "      <td>6.07</td>\n",
              "      <td>6.22</td>\n",
              "      <td>49.97</td>\n",
              "    </tr>\n",
              "    <tr>\n",
              "      <th>std</th>\n",
              "      <td>0.76</td>\n",
              "      <td>0.71</td>\n",
              "      <td>0.93</td>\n",
              "      <td>0.91</td>\n",
              "      <td>0.74</td>\n",
              "      <td>0.62</td>\n",
              "      <td>0.64</td>\n",
              "      <td>0.59</td>\n",
              "      <td>0.33</td>\n",
              "      <td>0.50</td>\n",
              "      <td>20.15</td>\n",
              "      <td>1.13</td>\n",
              "      <td>1.27</td>\n",
              "      <td>12.78</td>\n",
              "      <td>780.35</td>\n",
              "      <td>0.92</td>\n",
              "      <td>1.47</td>\n",
              "      <td>2.14</td>\n",
              "      <td>1.95</td>\n",
              "      <td>2.17</td>\n",
              "      <td>1.92</td>\n",
              "      <td>1.61</td>\n",
              "      <td>1.01</td>\n",
              "      <td>2.17</td>\n",
              "      <td>3.24</td>\n",
              "      <td>3.42</td>\n",
              "      <td>3.50</td>\n",
              "      <td>3.18</td>\n",
              "      <td>3.33</td>\n",
              "      <td>12.32</td>\n",
              "    </tr>\n",
              "    <tr>\n",
              "      <th>min</th>\n",
              "      <td>0.00</td>\n",
              "      <td>0.00</td>\n",
              "      <td>0.00</td>\n",
              "      <td>0.00</td>\n",
              "      <td>0.00</td>\n",
              "      <td>0.00</td>\n",
              "      <td>0.00</td>\n",
              "      <td>0.00</td>\n",
              "      <td>0.00</td>\n",
              "      <td>1.00</td>\n",
              "      <td>18.00</td>\n",
              "      <td>1.00</td>\n",
              "      <td>1.00</td>\n",
              "      <td>1.00</td>\n",
              "      <td>0.00</td>\n",
              "      <td>1.00</td>\n",
              "      <td>0.00</td>\n",
              "      <td>0.00</td>\n",
              "      <td>0.00</td>\n",
              "      <td>0.00</td>\n",
              "      <td>0.00</td>\n",
              "      <td>0.00</td>\n",
              "      <td>0.00</td>\n",
              "      <td>0.00</td>\n",
              "      <td>0.00</td>\n",
              "      <td>0.00</td>\n",
              "      <td>0.00</td>\n",
              "      <td>0.00</td>\n",
              "      <td>0.00</td>\n",
              "      <td>16.06</td>\n",
              "    </tr>\n",
              "    <tr>\n",
              "      <th>1%</th>\n",
              "      <td>0.00</td>\n",
              "      <td>0.00</td>\n",
              "      <td>0.00</td>\n",
              "      <td>0.00</td>\n",
              "      <td>0.00</td>\n",
              "      <td>0.00</td>\n",
              "      <td>0.00</td>\n",
              "      <td>0.00</td>\n",
              "      <td>0.00</td>\n",
              "      <td>1.00</td>\n",
              "      <td>18.00</td>\n",
              "      <td>1.00</td>\n",
              "      <td>1.00</td>\n",
              "      <td>1.00</td>\n",
              "      <td>0.00</td>\n",
              "      <td>1.00</td>\n",
              "      <td>0.00</td>\n",
              "      <td>0.00</td>\n",
              "      <td>0.00</td>\n",
              "      <td>0.00</td>\n",
              "      <td>0.00</td>\n",
              "      <td>0.00</td>\n",
              "      <td>0.81</td>\n",
              "      <td>0.00</td>\n",
              "      <td>0.00</td>\n",
              "      <td>0.00</td>\n",
              "      <td>0.00</td>\n",
              "      <td>0.00</td>\n",
              "      <td>0.00</td>\n",
              "      <td>24.68</td>\n",
              "    </tr>\n",
              "    <tr>\n",
              "      <th>5%</th>\n",
              "      <td>0.00</td>\n",
              "      <td>0.00</td>\n",
              "      <td>0.00</td>\n",
              "      <td>0.00</td>\n",
              "      <td>0.00</td>\n",
              "      <td>0.00</td>\n",
              "      <td>0.00</td>\n",
              "      <td>0.00</td>\n",
              "      <td>0.00</td>\n",
              "      <td>1.00</td>\n",
              "      <td>18.00</td>\n",
              "      <td>1.00</td>\n",
              "      <td>1.00</td>\n",
              "      <td>2.00</td>\n",
              "      <td>0.00</td>\n",
              "      <td>1.00</td>\n",
              "      <td>0.68</td>\n",
              "      <td>0.00</td>\n",
              "      <td>0.00</td>\n",
              "      <td>0.00</td>\n",
              "      <td>0.00</td>\n",
              "      <td>0.42</td>\n",
              "      <td>2.17</td>\n",
              "      <td>0.00</td>\n",
              "      <td>0.00</td>\n",
              "      <td>0.00</td>\n",
              "      <td>0.00</td>\n",
              "      <td>0.00</td>\n",
              "      <td>0.00</td>\n",
              "      <td>30.79</td>\n",
              "    </tr>\n",
              "    <tr>\n",
              "      <th>25%</th>\n",
              "      <td>0.00</td>\n",
              "      <td>0.00</td>\n",
              "      <td>0.00</td>\n",
              "      <td>0.00</td>\n",
              "      <td>0.00</td>\n",
              "      <td>0.00</td>\n",
              "      <td>0.00</td>\n",
              "      <td>0.00</td>\n",
              "      <td>0.00</td>\n",
              "      <td>1.00</td>\n",
              "      <td>27.00</td>\n",
              "      <td>3.00</td>\n",
              "      <td>2.00</td>\n",
              "      <td>4.00</td>\n",
              "      <td>35.00</td>\n",
              "      <td>1.00</td>\n",
              "      <td>2.06</td>\n",
              "      <td>0.00</td>\n",
              "      <td>0.45</td>\n",
              "      <td>0.00</td>\n",
              "      <td>0.00</td>\n",
              "      <td>2.59</td>\n",
              "      <td>4.17</td>\n",
              "      <td>0.00</td>\n",
              "      <td>2.02</td>\n",
              "      <td>1.59</td>\n",
              "      <td>2.93</td>\n",
              "      <td>3.70</td>\n",
              "      <td>3.72</td>\n",
              "      <td>41.03</td>\n",
              "    </tr>\n",
              "    <tr>\n",
              "      <th>50%</th>\n",
              "      <td>0.00</td>\n",
              "      <td>0.00</td>\n",
              "      <td>0.00</td>\n",
              "      <td>0.00</td>\n",
              "      <td>0.00</td>\n",
              "      <td>0.00</td>\n",
              "      <td>0.00</td>\n",
              "      <td>0.00</td>\n",
              "      <td>0.00</td>\n",
              "      <td>2.00</td>\n",
              "      <td>43.00</td>\n",
              "      <td>3.00</td>\n",
              "      <td>3.00</td>\n",
              "      <td>7.00</td>\n",
              "      <td>210.00</td>\n",
              "      <td>2.00</td>\n",
              "      <td>3.22</td>\n",
              "      <td>0.06</td>\n",
              "      <td>2.32</td>\n",
              "      <td>2.08</td>\n",
              "      <td>1.03</td>\n",
              "      <td>4.94</td>\n",
              "      <td>5.00</td>\n",
              "      <td>2.59</td>\n",
              "      <td>4.43</td>\n",
              "      <td>4.83</td>\n",
              "      <td>6.23</td>\n",
              "      <td>6.41</td>\n",
              "      <td>6.86</td>\n",
              "      <td>49.51</td>\n",
              "    </tr>\n",
              "    <tr>\n",
              "      <th>75%</th>\n",
              "      <td>0.00</td>\n",
              "      <td>0.00</td>\n",
              "      <td>1.00</td>\n",
              "      <td>1.00</td>\n",
              "      <td>0.00</td>\n",
              "      <td>0.00</td>\n",
              "      <td>0.00</td>\n",
              "      <td>0.00</td>\n",
              "      <td>0.00</td>\n",
              "      <td>2.00</td>\n",
              "      <td>62.00</td>\n",
              "      <td>4.00</td>\n",
              "      <td>4.00</td>\n",
              "      <td>10.00</td>\n",
              "      <td>568.93</td>\n",
              "      <td>3.00</td>\n",
              "      <td>4.83</td>\n",
              "      <td>4.50</td>\n",
              "      <td>4.94</td>\n",
              "      <td>5.00</td>\n",
              "      <td>3.41</td>\n",
              "      <td>5.00</td>\n",
              "      <td>5.00</td>\n",
              "      <td>5.00</td>\n",
              "      <td>7.27</td>\n",
              "      <td>7.65</td>\n",
              "      <td>9.25</td>\n",
              "      <td>9.00</td>\n",
              "      <td>9.45</td>\n",
              "      <td>58.17</td>\n",
              "    </tr>\n",
              "    <tr>\n",
              "      <th>95%</th>\n",
              "      <td>2.00</td>\n",
              "      <td>2.00</td>\n",
              "      <td>3.00</td>\n",
              "      <td>3.00</td>\n",
              "      <td>2.00</td>\n",
              "      <td>1.00</td>\n",
              "      <td>1.00</td>\n",
              "      <td>1.00</td>\n",
              "      <td>0.00</td>\n",
              "      <td>2.00</td>\n",
              "      <td>81.00</td>\n",
              "      <td>4.00</td>\n",
              "      <td>5.00</td>\n",
              "      <td>11.00</td>\n",
              "      <td>1863.05</td>\n",
              "      <td>3.00</td>\n",
              "      <td>5.00</td>\n",
              "      <td>5.00</td>\n",
              "      <td>5.00</td>\n",
              "      <td>5.00</td>\n",
              "      <td>5.00</td>\n",
              "      <td>5.00</td>\n",
              "      <td>5.00</td>\n",
              "      <td>5.00</td>\n",
              "      <td>10.00</td>\n",
              "      <td>10.00</td>\n",
              "      <td>10.00</td>\n",
              "      <td>10.00</td>\n",
              "      <td>10.00</td>\n",
              "      <td>71.19</td>\n",
              "    </tr>\n",
              "    <tr>\n",
              "      <th>99%</th>\n",
              "      <td>3.00</td>\n",
              "      <td>3.00</td>\n",
              "      <td>3.00</td>\n",
              "      <td>3.00</td>\n",
              "      <td>3.00</td>\n",
              "      <td>3.00</td>\n",
              "      <td>3.00</td>\n",
              "      <td>3.00</td>\n",
              "      <td>1.00</td>\n",
              "      <td>2.00</td>\n",
              "      <td>85.00</td>\n",
              "      <td>5.00</td>\n",
              "      <td>5.00</td>\n",
              "      <td>99.00</td>\n",
              "      <td>3672.06</td>\n",
              "      <td>3.00</td>\n",
              "      <td>5.00</td>\n",
              "      <td>5.00</td>\n",
              "      <td>5.00</td>\n",
              "      <td>5.00</td>\n",
              "      <td>5.00</td>\n",
              "      <td>5.00</td>\n",
              "      <td>5.00</td>\n",
              "      <td>5.00</td>\n",
              "      <td>10.00</td>\n",
              "      <td>10.00</td>\n",
              "      <td>10.00</td>\n",
              "      <td>10.00</td>\n",
              "      <td>10.00</td>\n",
              "      <td>79.86</td>\n",
              "    </tr>\n",
              "    <tr>\n",
              "      <th>max</th>\n",
              "      <td>9.00</td>\n",
              "      <td>9.00</td>\n",
              "      <td>9.00</td>\n",
              "      <td>9.00</td>\n",
              "      <td>9.00</td>\n",
              "      <td>9.00</td>\n",
              "      <td>9.00</td>\n",
              "      <td>9.00</td>\n",
              "      <td>9.00</td>\n",
              "      <td>2.00</td>\n",
              "      <td>85.00</td>\n",
              "      <td>5.00</td>\n",
              "      <td>9.00</td>\n",
              "      <td>99.00</td>\n",
              "      <td>10777.83</td>\n",
              "      <td>3.00</td>\n",
              "      <td>5.00</td>\n",
              "      <td>5.00</td>\n",
              "      <td>5.00</td>\n",
              "      <td>5.00</td>\n",
              "      <td>5.00</td>\n",
              "      <td>5.00</td>\n",
              "      <td>5.00</td>\n",
              "      <td>5.00</td>\n",
              "      <td>10.00</td>\n",
              "      <td>10.00</td>\n",
              "      <td>10.00</td>\n",
              "      <td>10.00</td>\n",
              "      <td>10.00</td>\n",
              "      <td>89.53</td>\n",
              "    </tr>\n",
              "  </tbody>\n",
              "</table>\n",
              "</div>\n",
              "      <button class=\"colab-df-convert\" onclick=\"convertToInteractive('df-e3124e1c-5540-4e70-ac9d-0a30fa07b2ef')\"\n",
              "              title=\"Convert this dataframe to an interactive table.\"\n",
              "              style=\"display:none;\">\n",
              "        \n",
              "  <svg xmlns=\"http://www.w3.org/2000/svg\" height=\"24px\"viewBox=\"0 0 24 24\"\n",
              "       width=\"24px\">\n",
              "    <path d=\"M0 0h24v24H0V0z\" fill=\"none\"/>\n",
              "    <path d=\"M18.56 5.44l.94 2.06.94-2.06 2.06-.94-2.06-.94-.94-2.06-.94 2.06-2.06.94zm-11 1L8.5 8.5l.94-2.06 2.06-.94-2.06-.94L8.5 2.5l-.94 2.06-2.06.94zm10 10l.94 2.06.94-2.06 2.06-.94-2.06-.94-.94-2.06-.94 2.06-2.06.94z\"/><path d=\"M17.41 7.96l-1.37-1.37c-.4-.4-.92-.59-1.43-.59-.52 0-1.04.2-1.43.59L10.3 9.45l-7.72 7.72c-.78.78-.78 2.05 0 2.83L4 21.41c.39.39.9.59 1.41.59.51 0 1.02-.2 1.41-.59l7.78-7.78 2.81-2.81c.8-.78.8-2.07 0-2.86zM5.41 20L4 18.59l7.72-7.72 1.47 1.35L5.41 20z\"/>\n",
              "  </svg>\n",
              "      </button>\n",
              "      \n",
              "  <style>\n",
              "    .colab-df-container {\n",
              "      display:flex;\n",
              "      flex-wrap:wrap;\n",
              "      gap: 12px;\n",
              "    }\n",
              "\n",
              "    .colab-df-convert {\n",
              "      background-color: #E8F0FE;\n",
              "      border: none;\n",
              "      border-radius: 50%;\n",
              "      cursor: pointer;\n",
              "      display: none;\n",
              "      fill: #1967D2;\n",
              "      height: 32px;\n",
              "      padding: 0 0 0 0;\n",
              "      width: 32px;\n",
              "    }\n",
              "\n",
              "    .colab-df-convert:hover {\n",
              "      background-color: #E2EBFA;\n",
              "      box-shadow: 0px 1px 2px rgba(60, 64, 67, 0.3), 0px 1px 3px 1px rgba(60, 64, 67, 0.15);\n",
              "      fill: #174EA6;\n",
              "    }\n",
              "\n",
              "    [theme=dark] .colab-df-convert {\n",
              "      background-color: #3B4455;\n",
              "      fill: #D2E3FC;\n",
              "    }\n",
              "\n",
              "    [theme=dark] .colab-df-convert:hover {\n",
              "      background-color: #434B5C;\n",
              "      box-shadow: 0px 1px 3px 1px rgba(0, 0, 0, 0.15);\n",
              "      filter: drop-shadow(0px 1px 2px rgba(0, 0, 0, 0.3));\n",
              "      fill: #FFFFFF;\n",
              "    }\n",
              "  </style>\n",
              "\n",
              "      <script>\n",
              "        const buttonEl =\n",
              "          document.querySelector('#df-e3124e1c-5540-4e70-ac9d-0a30fa07b2ef button.colab-df-convert');\n",
              "        buttonEl.style.display =\n",
              "          google.colab.kernel.accessAllowed ? 'block' : 'none';\n",
              "\n",
              "        async function convertToInteractive(key) {\n",
              "          const element = document.querySelector('#df-e3124e1c-5540-4e70-ac9d-0a30fa07b2ef');\n",
              "          const dataTable =\n",
              "            await google.colab.kernel.invokeFunction('convertToInteractive',\n",
              "                                                     [key], {});\n",
              "          if (!dataTable) return;\n",
              "\n",
              "          const docLinkHtml = 'Like what you see? Visit the ' +\n",
              "            '<a target=\"_blank\" href=https://colab.research.google.com/notebooks/data_table.ipynb>data table notebook</a>'\n",
              "            + ' to learn more about interactive tables.';\n",
              "          element.innerHTML = '';\n",
              "          dataTable['output_type'] = 'display_data';\n",
              "          await google.colab.output.renderOutput(dataTable, element);\n",
              "          const docLink = document.createElement('div');\n",
              "          docLink.innerHTML = docLinkHtml;\n",
              "          element.appendChild(docLink);\n",
              "        }\n",
              "      </script>\n",
              "    </div>\n",
              "  </div>\n",
              "  "
            ],
            "text/plain": [
              "        DPQ010   DPQ020  ...  HEI2015C13_ADDSUG  HEI2015_TOTAL_SCORE\n",
              "count  4836.00  4836.00  ...            5060.00              5060.00\n",
              "mean      0.31     0.31  ...               6.22                49.97\n",
              "std       0.76     0.71  ...               3.33                12.32\n",
              "min       0.00     0.00  ...               0.00                16.06\n",
              "1%        0.00     0.00  ...               0.00                24.68\n",
              "5%        0.00     0.00  ...               0.00                30.79\n",
              "25%       0.00     0.00  ...               3.72                41.03\n",
              "50%       0.00     0.00  ...               6.86                49.51\n",
              "75%       0.00     0.00  ...               9.45                58.17\n",
              "95%       2.00     2.00  ...              10.00                71.19\n",
              "99%       3.00     3.00  ...              10.00                79.86\n",
              "max       9.00     9.00  ...              10.00                89.53\n",
              "\n",
              "[12 rows x 30 columns]"
            ]
          },
          "metadata": {},
          "execution_count": 11
        }
      ]
    },
    {
      "cell_type": "markdown",
      "source": [
        "**Distribuição dos Scores Ph9**"
      ],
      "metadata": {
        "id": "2htDquSkIWNb"
      }
    },
    {
      "cell_type": "code",
      "source": [
        "combinaçao[['DPQ010','DPQ020','DPQ030','DPQ040','DPQ050','DPQ060','DPQ070','DPQ080','DPQ090']].agg(['value_counts'])"
      ],
      "metadata": {
        "colab": {
          "base_uri": "https://localhost:8080/",
          "height": 237
        },
        "id": "4doR60LyIUjz",
        "outputId": "5fad2cbc-e64b-4cfe-f52d-96b505e2c85f"
      },
      "execution_count": 12,
      "outputs": [
        {
          "output_type": "execute_result",
          "data": {
            "text/html": [
              "\n",
              "  <div id=\"df-cb1efb29-ddde-4dcf-b818-3410288d8052\">\n",
              "    <div class=\"colab-df-container\">\n",
              "      <div>\n",
              "<style scoped>\n",
              "    .dataframe tbody tr th:only-of-type {\n",
              "        vertical-align: middle;\n",
              "    }\n",
              "\n",
              "    .dataframe tbody tr th {\n",
              "        vertical-align: top;\n",
              "    }\n",
              "\n",
              "    .dataframe thead tr th {\n",
              "        text-align: left;\n",
              "    }\n",
              "</style>\n",
              "<table border=\"1\" class=\"dataframe\">\n",
              "  <thead>\n",
              "    <tr>\n",
              "      <th></th>\n",
              "      <th>DPQ010</th>\n",
              "      <th>DPQ020</th>\n",
              "      <th>DPQ030</th>\n",
              "      <th>DPQ040</th>\n",
              "      <th>DPQ050</th>\n",
              "      <th>DPQ060</th>\n",
              "      <th>DPQ070</th>\n",
              "      <th>DPQ080</th>\n",
              "      <th>DPQ090</th>\n",
              "    </tr>\n",
              "    <tr>\n",
              "      <th></th>\n",
              "      <th>value_counts</th>\n",
              "      <th>value_counts</th>\n",
              "      <th>value_counts</th>\n",
              "      <th>value_counts</th>\n",
              "      <th>value_counts</th>\n",
              "      <th>value_counts</th>\n",
              "      <th>value_counts</th>\n",
              "      <th>value_counts</th>\n",
              "      <th>value_counts</th>\n",
              "    </tr>\n",
              "  </thead>\n",
              "  <tbody>\n",
              "    <tr>\n",
              "      <th>0.0</th>\n",
              "      <td>3850</td>\n",
              "      <td>3769</td>\n",
              "      <td>3152</td>\n",
              "      <td>2429</td>\n",
              "      <td>3813</td>\n",
              "      <td>4134</td>\n",
              "      <td>4070</td>\n",
              "      <td>4362</td>\n",
              "      <td>4667</td>\n",
              "    </tr>\n",
              "    <tr>\n",
              "      <th>1.0</th>\n",
              "      <td>673</td>\n",
              "      <td>769</td>\n",
              "      <td>1071</td>\n",
              "      <td>1706</td>\n",
              "      <td>691</td>\n",
              "      <td>513</td>\n",
              "      <td>545</td>\n",
              "      <td>341</td>\n",
              "      <td>122</td>\n",
              "    </tr>\n",
              "    <tr>\n",
              "      <th>2.0</th>\n",
              "      <td>180</td>\n",
              "      <td>179</td>\n",
              "      <td>286</td>\n",
              "      <td>370</td>\n",
              "      <td>160</td>\n",
              "      <td>95</td>\n",
              "      <td>118</td>\n",
              "      <td>79</td>\n",
              "      <td>32</td>\n",
              "    </tr>\n",
              "    <tr>\n",
              "      <th>3.0</th>\n",
              "      <td>124</td>\n",
              "      <td>114</td>\n",
              "      <td>320</td>\n",
              "      <td>326</td>\n",
              "      <td>168</td>\n",
              "      <td>89</td>\n",
              "      <td>99</td>\n",
              "      <td>45</td>\n",
              "      <td>13</td>\n",
              "    </tr>\n",
              "    <tr>\n",
              "      <th>9.0</th>\n",
              "      <td>9</td>\n",
              "      <td>5</td>\n",
              "      <td>7</td>\n",
              "      <td>5</td>\n",
              "      <td>4</td>\n",
              "      <td>5</td>\n",
              "      <td>4</td>\n",
              "      <td>9</td>\n",
              "      <td>2</td>\n",
              "    </tr>\n",
              "  </tbody>\n",
              "</table>\n",
              "</div>\n",
              "      <button class=\"colab-df-convert\" onclick=\"convertToInteractive('df-cb1efb29-ddde-4dcf-b818-3410288d8052')\"\n",
              "              title=\"Convert this dataframe to an interactive table.\"\n",
              "              style=\"display:none;\">\n",
              "        \n",
              "  <svg xmlns=\"http://www.w3.org/2000/svg\" height=\"24px\"viewBox=\"0 0 24 24\"\n",
              "       width=\"24px\">\n",
              "    <path d=\"M0 0h24v24H0V0z\" fill=\"none\"/>\n",
              "    <path d=\"M18.56 5.44l.94 2.06.94-2.06 2.06-.94-2.06-.94-.94-2.06-.94 2.06-2.06.94zm-11 1L8.5 8.5l.94-2.06 2.06-.94-2.06-.94L8.5 2.5l-.94 2.06-2.06.94zm10 10l.94 2.06.94-2.06 2.06-.94-2.06-.94-.94-2.06-.94 2.06-2.06.94z\"/><path d=\"M17.41 7.96l-1.37-1.37c-.4-.4-.92-.59-1.43-.59-.52 0-1.04.2-1.43.59L10.3 9.45l-7.72 7.72c-.78.78-.78 2.05 0 2.83L4 21.41c.39.39.9.59 1.41.59.51 0 1.02-.2 1.41-.59l7.78-7.78 2.81-2.81c.8-.78.8-2.07 0-2.86zM5.41 20L4 18.59l7.72-7.72 1.47 1.35L5.41 20z\"/>\n",
              "  </svg>\n",
              "      </button>\n",
              "      \n",
              "  <style>\n",
              "    .colab-df-container {\n",
              "      display:flex;\n",
              "      flex-wrap:wrap;\n",
              "      gap: 12px;\n",
              "    }\n",
              "\n",
              "    .colab-df-convert {\n",
              "      background-color: #E8F0FE;\n",
              "      border: none;\n",
              "      border-radius: 50%;\n",
              "      cursor: pointer;\n",
              "      display: none;\n",
              "      fill: #1967D2;\n",
              "      height: 32px;\n",
              "      padding: 0 0 0 0;\n",
              "      width: 32px;\n",
              "    }\n",
              "\n",
              "    .colab-df-convert:hover {\n",
              "      background-color: #E2EBFA;\n",
              "      box-shadow: 0px 1px 2px rgba(60, 64, 67, 0.3), 0px 1px 3px 1px rgba(60, 64, 67, 0.15);\n",
              "      fill: #174EA6;\n",
              "    }\n",
              "\n",
              "    [theme=dark] .colab-df-convert {\n",
              "      background-color: #3B4455;\n",
              "      fill: #D2E3FC;\n",
              "    }\n",
              "\n",
              "    [theme=dark] .colab-df-convert:hover {\n",
              "      background-color: #434B5C;\n",
              "      box-shadow: 0px 1px 3px 1px rgba(0, 0, 0, 0.15);\n",
              "      filter: drop-shadow(0px 1px 2px rgba(0, 0, 0, 0.3));\n",
              "      fill: #FFFFFF;\n",
              "    }\n",
              "  </style>\n",
              "\n",
              "      <script>\n",
              "        const buttonEl =\n",
              "          document.querySelector('#df-cb1efb29-ddde-4dcf-b818-3410288d8052 button.colab-df-convert');\n",
              "        buttonEl.style.display =\n",
              "          google.colab.kernel.accessAllowed ? 'block' : 'none';\n",
              "\n",
              "        async function convertToInteractive(key) {\n",
              "          const element = document.querySelector('#df-cb1efb29-ddde-4dcf-b818-3410288d8052');\n",
              "          const dataTable =\n",
              "            await google.colab.kernel.invokeFunction('convertToInteractive',\n",
              "                                                     [key], {});\n",
              "          if (!dataTable) return;\n",
              "\n",
              "          const docLinkHtml = 'Like what you see? Visit the ' +\n",
              "            '<a target=\"_blank\" href=https://colab.research.google.com/notebooks/data_table.ipynb>data table notebook</a>'\n",
              "            + ' to learn more about interactive tables.';\n",
              "          element.innerHTML = '';\n",
              "          dataTable['output_type'] = 'display_data';\n",
              "          await google.colab.output.renderOutput(dataTable, element);\n",
              "          const docLink = document.createElement('div');\n",
              "          docLink.innerHTML = docLinkHtml;\n",
              "          element.appendChild(docLink);\n",
              "        }\n",
              "      </script>\n",
              "    </div>\n",
              "  </div>\n",
              "  "
            ],
            "text/plain": [
              "          DPQ010       DPQ020  ...       DPQ080       DPQ090\n",
              "    value_counts value_counts  ... value_counts value_counts\n",
              "0.0         3850         3769  ...         4362         4667\n",
              "1.0          673          769  ...          341          122\n",
              "2.0          180          179  ...           79           32\n",
              "3.0          124          114  ...           45           13\n",
              "9.0            9            5  ...            9            2\n",
              "\n",
              "[5 rows x 9 columns]"
            ]
          },
          "metadata": {},
          "execution_count": 12
        }
      ]
    },
    {
      "cell_type": "code",
      "source": [
        "combinaçao[['RIDRETH1']].value_counts(sort = False) #distribuição de raça \n",
        "\n",
        "#1 = não-hispânico\n",
        "#2 = Negro não-hispânico\n",
        "#3 = Mexicano-americano\n",
        "#4 = Outro\n",
        "#5 = Outro - Hispânico"
      ],
      "metadata": {
        "colab": {
          "base_uri": "https://localhost:8080/"
        },
        "id": "MXbmjefKMbpA",
        "outputId": "21f3820f-f5b1-4467-f3df-8f513ec44475"
      },
      "execution_count": 13,
      "outputs": [
        {
          "output_type": "execute_result",
          "data": {
            "text/plain": [
              "RIDRETH1\n",
              "1           1133\n",
              "2            164\n",
              "3           2516\n",
              "4           1300\n",
              "5            221\n",
              "dtype: int64"
            ]
          },
          "metadata": {},
          "execution_count": 13
        }
      ]
    },
    {
      "cell_type": "code",
      "source": [
        "combinaçao[['RIAGENDR']].value_counts(sort = False) #Distribuição de gênero \n",
        "#1 = Masculino\n",
        "#2 = Feminino"
      ],
      "metadata": {
        "colab": {
          "base_uri": "https://localhost:8080/"
        },
        "id": "zFbD8IbxM_vW",
        "outputId": "da21a2b5-57c9-4308-e7d9-5848be186afd"
      },
      "execution_count": 14,
      "outputs": [
        {
          "output_type": "execute_result",
          "data": {
            "text/plain": [
              "RIAGENDR\n",
              "1           2561\n",
              "2           2773\n",
              "dtype: int64"
            ]
          },
          "metadata": {},
          "execution_count": 14
        }
      ]
    },
    {
      "cell_type": "code",
      "source": [
        "combinaçao[['DMDEDUC']].value_counts(sort = False) # distribuição de escolaridade \n",
        "#1 = Menor que 9o ano\n",
        "#2 = 9-12o ano\n",
        "#3 = Ensino médio\n",
        "#4 = Ensino superior incompleto\n",
        "#5 = Superior completo ou maior\n",
        "#7 = Se recusou a responder\n",
        "#9 = Não sabe"
      ],
      "metadata": {
        "colab": {
          "base_uri": "https://localhost:8080/"
        },
        "id": "B9OAt5kbOcuD",
        "outputId": "d881cf50-7320-49f5-8e5b-00e825471369"
      },
      "execution_count": 15,
      "outputs": [
        {
          "output_type": "execute_result",
          "data": {
            "text/plain": [
              "DMDEDUC\n",
              "1           618\n",
              "2           936\n",
              "3          1335\n",
              "4          1498\n",
              "5           939\n",
              "7             4\n",
              "9             4\n",
              "dtype: int64"
            ]
          },
          "metadata": {},
          "execution_count": 15
        }
      ]
    },
    {
      "cell_type": "code",
      "source": [
        "combinaçao[['INDFMINC']].value_counts(sort = False) # DISTRIBUIÇÃO DE RENDA\n",
        "#1 = 0-4999\n",
        "#2 - 5000-9999\n",
        "#3 = 10000-14999\n",
        "#4 = 15000-19999\n",
        "#5 = 20000-24999\n",
        "#6 = 25000-34999\n",
        "#7 = 35000-44999\n",
        "#8 = 45000-54999\n",
        "#9 = 55000-64999\n",
        "#10 = 65000-74999 \n",
        "#11 = Maior ou igual a 75000\n",
        "#12 = Maior que 20000\n",
        "#13 = Menor que 20000\n",
        "#77 = Serecusou a responder\n",
        "#99 = Não sabe"
      ],
      "metadata": {
        "colab": {
          "base_uri": "https://localhost:8080/"
        },
        "id": "WCeM8f75PJBn",
        "outputId": "beef4c71-b3a9-4495-e90a-3f2e674c5c5d"
      },
      "execution_count": 16,
      "outputs": [
        {
          "output_type": "execute_result",
          "data": {
            "text/plain": [
              "INDFMINC\n",
              "1.0          190\n",
              "2.0          281\n",
              "3.0          440\n",
              "4.0          412\n",
              "5.0          426\n",
              "6.0          678\n",
              "7.0          535\n",
              "8.0          485\n",
              "9.0          297\n",
              "10.0         278\n",
              "11.0        1044\n",
              "12.0          78\n",
              "13.0          30\n",
              "77.0          36\n",
              "99.0          77\n",
              "dtype: int64"
            ]
          },
          "metadata": {},
          "execution_count": 16
        }
      ]
    },
    {
      "cell_type": "code",
      "source": [
        "combinaçao[['ADHERENCE']].value_counts(sort = False) # distribuição dos grupos de atividades físicas\n",
        "#1 = Baixo (< 150min/semana)\n",
        "#2 = Adequado(150-300min/semana)\n",
        "#3 = Acima (> 300min/semana)"
      ],
      "metadata": {
        "colab": {
          "base_uri": "https://localhost:8080/"
        },
        "id": "_bDnVqhXP_bn",
        "outputId": "8dc3701a-6d89-443d-dbb0-5579d79d8615"
      },
      "execution_count": 17,
      "outputs": [
        {
          "output_type": "execute_result",
          "data": {
            "text/plain": [
              "ADHERENCE\n",
              "1.0          2304\n",
              "2.0           834\n",
              "3.0          2196\n",
              "dtype: int64"
            ]
          },
          "metadata": {},
          "execution_count": 17
        }
      ]
    },
    {
      "cell_type": "markdown",
      "source": [
        "**Tratamento de dados e decisões**\n",
        "\n",
        "Optei por excluir as linhas com valores 7 e 9, pois por serem respostas do tipo \"Não sabe ou Não quer responder\" não colaboram efetivamente com a análise da depressão da amostra de estudo. Além disso, o número de pessoas que responderam dessa maneira é muito baixo para o valor total da amostra.\n",
        "Também optei por trabalhar apenas com os valores de renda que indicam maior e menor que 20000,00. Para enxugar o numero de dados"
      ],
      "metadata": {
        "id": "GjpkLOxxQmy8"
      }
    },
    {
      "cell_type": "code",
      "source": [
        "combinaçao = combinaçao.copy()"
      ],
      "metadata": {
        "id": "27VInNyiTctn"
      },
      "execution_count": 87,
      "outputs": []
    },
    {
      "cell_type": "code",
      "source": [
        "drop_col = ['DPQ010', 'DPQ020', 'DPQ030', 'DPQ040', 'DPQ050', 'DPQ060', 'DPQ070', 'DPQ080', 'DPQ090']\n",
        "for column in drop_col:\n",
        "    combinaçao = combinaçao.loc[combinaçao[column] != 7]\n",
        "    combinaçao = combinaçao.loc[combinaçao[column] != 9]"
      ],
      "metadata": {
        "id": "eruY0gkNVouP"
      },
      "execution_count": 18,
      "outputs": []
    },
    {
      "cell_type": "code",
      "source": [
        "combinaçao['INDFMINC'] = combinaçao['INDFMINC'].astype('category')"
      ],
      "metadata": {
        "id": "jDIXPpAxUZrN"
      },
      "execution_count": 19,
      "outputs": []
    },
    {
      "cell_type": "code",
      "source": [
        "combinaçao['INDFMINC']"
      ],
      "metadata": {
        "colab": {
          "base_uri": "https://localhost:8080/"
        },
        "id": "D1IQx8FmbRwi",
        "outputId": "60b2396c-86c5-4ab8-f057-1d4c68a2846c"
      },
      "execution_count": 21,
      "outputs": [
        {
          "output_type": "execute_result",
          "data": {
            "text/plain": [
              "0        4.0\n",
              "1       11.0\n",
              "2       11.0\n",
              "3       12.0\n",
              "4       11.0\n",
              "        ... \n",
              "5329     3.0\n",
              "5330     8.0\n",
              "5331     2.0\n",
              "5332     7.0\n",
              "5333     6.0\n",
              "Name: INDFMINC, Length: 5297, dtype: category\n",
              "Categories (15, float64): [1.0, 2.0, 3.0, 4.0, ..., 12.0, 13.0, 77.0, 99.0]"
            ]
          },
          "metadata": {},
          "execution_count": 21
        }
      ]
    },
    {
      "cell_type": "code",
      "source": [
        "combinaçao.info()"
      ],
      "metadata": {
        "colab": {
          "base_uri": "https://localhost:8080/"
        },
        "id": "D6MkkufxbbAL",
        "outputId": "91ce275c-a56a-4aa0-cb22-8c2be1a41882"
      },
      "execution_count": 23,
      "outputs": [
        {
          "output_type": "stream",
          "name": "stdout",
          "text": [
            "<class 'pandas.core.frame.DataFrame'>\n",
            "Int64Index: 5297 entries, 0 to 5333\n",
            "Data columns (total 31 columns):\n",
            " #   Column                    Non-Null Count  Dtype   \n",
            "---  ------                    --------------  -----   \n",
            " 0   SEQN                      5297 non-null   int64   \n",
            " 1   DPQ010                    4799 non-null   float64 \n",
            " 2   DPQ020                    4799 non-null   float64 \n",
            " 3   DPQ030                    4799 non-null   float64 \n",
            " 4   DPQ040                    4799 non-null   float64 \n",
            " 5   DPQ050                    4799 non-null   float64 \n",
            " 6   DPQ060                    4799 non-null   float64 \n",
            " 7   DPQ070                    4799 non-null   float64 \n",
            " 8   DPQ080                    4799 non-null   float64 \n",
            " 9   DPQ090                    4799 non-null   float64 \n",
            " 10  RIAGENDR                  5297 non-null   int64   \n",
            " 11  RIDAGEYR                  5297 non-null   int64   \n",
            " 12  RIDRETH1                  5297 non-null   int64   \n",
            " 13  DMDEDUC                   5297 non-null   int64   \n",
            " 14  INDFMINC                  5250 non-null   category\n",
            " 15  PAG_MINW                  5297 non-null   float64 \n",
            " 16  ADHERENCE                 5297 non-null   float64 \n",
            " 17  HEI2015C1_TOTALVEG        5027 non-null   float64 \n",
            " 18  HEI2015C2_GREEN_AND_BEAN  5027 non-null   float64 \n",
            " 19  HEI2015C3_TOTALFRUIT      5027 non-null   float64 \n",
            " 20  HEI2015C4_WHOLEFRUIT      5027 non-null   float64 \n",
            " 21  HEI2015C5_WHOLEGRAIN      5027 non-null   float64 \n",
            " 22  HEI2015C6_TOTALDAIRY      5027 non-null   float64 \n",
            " 23  HEI2015C7_TOTPROT         5027 non-null   float64 \n",
            " 24  HEI2015C8_SEAPLANT_PROT   5027 non-null   float64 \n",
            " 25  HEI2015C9_FATTYACID       5027 non-null   float64 \n",
            " 26  HEI2015C10_SODIUM         5027 non-null   float64 \n",
            " 27  HEI2015C11_REFINEDGRAIN   5027 non-null   float64 \n",
            " 28  HEI2015C12_SFAT           5027 non-null   float64 \n",
            " 29  HEI2015C13_ADDSUG         5027 non-null   float64 \n",
            " 30  HEI2015_TOTAL_SCORE       5027 non-null   float64 \n",
            "dtypes: category(1), float64(25), int64(5)\n",
            "memory usage: 1.3 MB\n"
          ]
        }
      ]
    },
    {
      "cell_type": "markdown",
      "source": [
        "**Criação da variável ph9**"
      ],
      "metadata": {
        "id": "TDlt4bvbkJVT"
      }
    },
    {
      "cell_type": "code",
      "execution_count": 24,
      "metadata": {
        "id": "JJwQ--ngXJ_L"
      },
      "outputs": [],
      "source": [
        "combinaçao['phq9'] = combinaçao['DPQ010'] + combinaçao['DPQ020'] + combinaçao['DPQ030'] + combinaçao['DPQ040'] + combinaçao['DPQ050'] + combinaçao['DPQ060'] + combinaçao['DPQ070'] + combinaçao['DPQ080'] + combinaçao['DPQ090']"
      ]
    },
    {
      "cell_type": "code",
      "source": [
        "combinaçao.info()"
      ],
      "metadata": {
        "colab": {
          "base_uri": "https://localhost:8080/"
        },
        "id": "WD_P-lSOoZw9",
        "outputId": "80deb536-2a14-48f8-e34f-e1cc7b112730"
      },
      "execution_count": 25,
      "outputs": [
        {
          "output_type": "stream",
          "name": "stdout",
          "text": [
            "<class 'pandas.core.frame.DataFrame'>\n",
            "Int64Index: 5297 entries, 0 to 5333\n",
            "Data columns (total 32 columns):\n",
            " #   Column                    Non-Null Count  Dtype   \n",
            "---  ------                    --------------  -----   \n",
            " 0   SEQN                      5297 non-null   int64   \n",
            " 1   DPQ010                    4799 non-null   float64 \n",
            " 2   DPQ020                    4799 non-null   float64 \n",
            " 3   DPQ030                    4799 non-null   float64 \n",
            " 4   DPQ040                    4799 non-null   float64 \n",
            " 5   DPQ050                    4799 non-null   float64 \n",
            " 6   DPQ060                    4799 non-null   float64 \n",
            " 7   DPQ070                    4799 non-null   float64 \n",
            " 8   DPQ080                    4799 non-null   float64 \n",
            " 9   DPQ090                    4799 non-null   float64 \n",
            " 10  RIAGENDR                  5297 non-null   int64   \n",
            " 11  RIDAGEYR                  5297 non-null   int64   \n",
            " 12  RIDRETH1                  5297 non-null   int64   \n",
            " 13  DMDEDUC                   5297 non-null   int64   \n",
            " 14  INDFMINC                  5250 non-null   category\n",
            " 15  PAG_MINW                  5297 non-null   float64 \n",
            " 16  ADHERENCE                 5297 non-null   float64 \n",
            " 17  HEI2015C1_TOTALVEG        5027 non-null   float64 \n",
            " 18  HEI2015C2_GREEN_AND_BEAN  5027 non-null   float64 \n",
            " 19  HEI2015C3_TOTALFRUIT      5027 non-null   float64 \n",
            " 20  HEI2015C4_WHOLEFRUIT      5027 non-null   float64 \n",
            " 21  HEI2015C5_WHOLEGRAIN      5027 non-null   float64 \n",
            " 22  HEI2015C6_TOTALDAIRY      5027 non-null   float64 \n",
            " 23  HEI2015C7_TOTPROT         5027 non-null   float64 \n",
            " 24  HEI2015C8_SEAPLANT_PROT   5027 non-null   float64 \n",
            " 25  HEI2015C9_FATTYACID       5027 non-null   float64 \n",
            " 26  HEI2015C10_SODIUM         5027 non-null   float64 \n",
            " 27  HEI2015C11_REFINEDGRAIN   5027 non-null   float64 \n",
            " 28  HEI2015C12_SFAT           5027 non-null   float64 \n",
            " 29  HEI2015C13_ADDSUG         5027 non-null   float64 \n",
            " 30  HEI2015_TOTAL_SCORE       5027 non-null   float64 \n",
            " 31  phq9                      4799 non-null   float64 \n",
            "dtypes: category(1), float64(26), int64(5)\n",
            "memory usage: 1.3 MB\n"
          ]
        }
      ]
    },
    {
      "cell_type": "markdown",
      "source": [
        "**Contruindo a variável php_grp:**  Que categoriza o grau de sintomas das pessoas"
      ],
      "metadata": {
        "id": "QnAMWHo_k9AD"
      }
    },
    {
      "cell_type": "code",
      "execution_count": 26,
      "metadata": {
        "id": "NRVJjQwV-BhS"
      },
      "outputs": [],
      "source": [
        "conditionlist = [\n",
        "    (combinaçao['phq9'] <= 5.1),\n",
        "    (combinaçao['phq9'] > 5.1) & (combinaçao['phq9'] <= 10.2),\n",
        "    (combinaçao['phq9'] > 10.2) & (combinaçao['phq9'] <= 15.3),\n",
        "    (combinaçao['phq9'] > 15.3) & (combinaçao['phq9'] <= 20),\n",
        "    (combinaçao['phq9'] > 20)]\n",
        "values = [0, 1, 2 ,3 ,4]\n",
        "\n",
        "combinaçao['phq_grp'] = np.select(conditionlist, values)\n"
      ]
    },
    {
      "cell_type": "code",
      "source": [
        "combinaçao[['phq_grp']].value_counts(sort = False) #Avaliação da frequência\n",
        "# 0 = Sem Sintomas\n",
        "# 1 = Sintomas Leves\n",
        "# 2 = Sintomas Moderados\n",
        "# 3 = Sintomas Moderadamente Severos\n",
        "# 4 = Sintomas Severos"
      ],
      "metadata": {
        "colab": {
          "base_uri": "https://localhost:8080/"
        },
        "id": "WMVznbtvmUqE",
        "outputId": "31dc1467-c61c-410c-d286-f1a61f313368"
      },
      "execution_count": 27,
      "outputs": [
        {
          "output_type": "execute_result",
          "data": {
            "text/plain": [
              "phq_grp\n",
              "0          4511\n",
              "1           547\n",
              "2           165\n",
              "3            52\n",
              "4            22\n",
              "dtype: int64"
            ]
          },
          "metadata": {},
          "execution_count": 27
        }
      ]
    },
    {
      "cell_type": "code",
      "execution_count": 28,
      "metadata": {
        "colab": {
          "base_uri": "https://localhost:8080/",
          "height": 270
        },
        "id": "bFcczZSo5r8M",
        "outputId": "f2544b97-7019-4d66-e1e6-1d4a0df3efec"
      },
      "outputs": [
        {
          "output_type": "execute_result",
          "data": {
            "text/html": [
              "\n",
              "  <div id=\"df-4a6d1e1e-9aef-4c6d-8d10-dd3a74478af2\">\n",
              "    <div class=\"colab-df-container\">\n",
              "      <div>\n",
              "<style scoped>\n",
              "    .dataframe tbody tr th:only-of-type {\n",
              "        vertical-align: middle;\n",
              "    }\n",
              "\n",
              "    .dataframe tbody tr th {\n",
              "        vertical-align: top;\n",
              "    }\n",
              "\n",
              "    .dataframe thead th {\n",
              "        text-align: right;\n",
              "    }\n",
              "</style>\n",
              "<table border=\"1\" class=\"dataframe\">\n",
              "  <thead>\n",
              "    <tr style=\"text-align: right;\">\n",
              "      <th></th>\n",
              "      <th>SEQN</th>\n",
              "      <th>DPQ010</th>\n",
              "      <th>DPQ020</th>\n",
              "      <th>DPQ030</th>\n",
              "      <th>DPQ040</th>\n",
              "      <th>DPQ050</th>\n",
              "      <th>DPQ060</th>\n",
              "      <th>DPQ070</th>\n",
              "      <th>DPQ080</th>\n",
              "      <th>DPQ090</th>\n",
              "      <th>RIAGENDR</th>\n",
              "      <th>RIDAGEYR</th>\n",
              "      <th>RIDRETH1</th>\n",
              "      <th>DMDEDUC</th>\n",
              "      <th>INDFMINC</th>\n",
              "      <th>PAG_MINW</th>\n",
              "      <th>ADHERENCE</th>\n",
              "      <th>HEI2015C1_TOTALVEG</th>\n",
              "      <th>HEI2015C2_GREEN_AND_BEAN</th>\n",
              "      <th>HEI2015C3_TOTALFRUIT</th>\n",
              "      <th>HEI2015C4_WHOLEFRUIT</th>\n",
              "      <th>HEI2015C5_WHOLEGRAIN</th>\n",
              "      <th>HEI2015C6_TOTALDAIRY</th>\n",
              "      <th>HEI2015C7_TOTPROT</th>\n",
              "      <th>HEI2015C8_SEAPLANT_PROT</th>\n",
              "      <th>HEI2015C9_FATTYACID</th>\n",
              "      <th>HEI2015C10_SODIUM</th>\n",
              "      <th>HEI2015C11_REFINEDGRAIN</th>\n",
              "      <th>HEI2015C12_SFAT</th>\n",
              "      <th>HEI2015C13_ADDSUG</th>\n",
              "      <th>HEI2015_TOTAL_SCORE</th>\n",
              "      <th>phq9</th>\n",
              "      <th>phq_grp</th>\n",
              "    </tr>\n",
              "  </thead>\n",
              "  <tbody>\n",
              "    <tr>\n",
              "      <th>0</th>\n",
              "      <td>31130</td>\n",
              "      <td>NaN</td>\n",
              "      <td>NaN</td>\n",
              "      <td>NaN</td>\n",
              "      <td>NaN</td>\n",
              "      <td>NaN</td>\n",
              "      <td>NaN</td>\n",
              "      <td>NaN</td>\n",
              "      <td>NaN</td>\n",
              "      <td>NaN</td>\n",
              "      <td>2</td>\n",
              "      <td>85</td>\n",
              "      <td>3</td>\n",
              "      <td>4</td>\n",
              "      <td>4.0</td>\n",
              "      <td>0.000000</td>\n",
              "      <td>1.0</td>\n",
              "      <td>NaN</td>\n",
              "      <td>NaN</td>\n",
              "      <td>NaN</td>\n",
              "      <td>NaN</td>\n",
              "      <td>NaN</td>\n",
              "      <td>NaN</td>\n",
              "      <td>NaN</td>\n",
              "      <td>NaN</td>\n",
              "      <td>NaN</td>\n",
              "      <td>NaN</td>\n",
              "      <td>NaN</td>\n",
              "      <td>NaN</td>\n",
              "      <td>NaN</td>\n",
              "      <td>NaN</td>\n",
              "      <td>NaN</td>\n",
              "      <td>0</td>\n",
              "    </tr>\n",
              "    <tr>\n",
              "      <th>1</th>\n",
              "      <td>31131</td>\n",
              "      <td>0.0</td>\n",
              "      <td>0.0</td>\n",
              "      <td>0.0</td>\n",
              "      <td>0.0</td>\n",
              "      <td>0.0</td>\n",
              "      <td>0.0</td>\n",
              "      <td>0.0</td>\n",
              "      <td>0.0</td>\n",
              "      <td>0.0</td>\n",
              "      <td>2</td>\n",
              "      <td>44</td>\n",
              "      <td>4</td>\n",
              "      <td>4</td>\n",
              "      <td>11.0</td>\n",
              "      <td>264.711316</td>\n",
              "      <td>2.0</td>\n",
              "      <td>3.115103</td>\n",
              "      <td>0.000000</td>\n",
              "      <td>5.000000</td>\n",
              "      <td>1.320674</td>\n",
              "      <td>0.000000</td>\n",
              "      <td>3.141062</td>\n",
              "      <td>4.071959</td>\n",
              "      <td>2.052399</td>\n",
              "      <td>0.684985</td>\n",
              "      <td>2.297100</td>\n",
              "      <td>9.512964</td>\n",
              "      <td>0.438428</td>\n",
              "      <td>3.919226</td>\n",
              "      <td>35.553899</td>\n",
              "      <td>0.0</td>\n",
              "      <td>0</td>\n",
              "    </tr>\n",
              "    <tr>\n",
              "      <th>2</th>\n",
              "      <td>31132</td>\n",
              "      <td>0.0</td>\n",
              "      <td>0.0</td>\n",
              "      <td>0.0</td>\n",
              "      <td>0.0</td>\n",
              "      <td>0.0</td>\n",
              "      <td>0.0</td>\n",
              "      <td>0.0</td>\n",
              "      <td>0.0</td>\n",
              "      <td>0.0</td>\n",
              "      <td>1</td>\n",
              "      <td>70</td>\n",
              "      <td>3</td>\n",
              "      <td>5</td>\n",
              "      <td>11.0</td>\n",
              "      <td>1353.348730</td>\n",
              "      <td>3.0</td>\n",
              "      <td>3.509081</td>\n",
              "      <td>0.000000</td>\n",
              "      <td>5.000000</td>\n",
              "      <td>5.000000</td>\n",
              "      <td>5.000000</td>\n",
              "      <td>4.448512</td>\n",
              "      <td>5.000000</td>\n",
              "      <td>0.000000</td>\n",
              "      <td>2.050769</td>\n",
              "      <td>7.369489</td>\n",
              "      <td>8.887880</td>\n",
              "      <td>8.186877</td>\n",
              "      <td>9.099088</td>\n",
              "      <td>63.551696</td>\n",
              "      <td>0.0</td>\n",
              "      <td>0</td>\n",
              "    </tr>\n",
              "    <tr>\n",
              "      <th>3</th>\n",
              "      <td>31134</td>\n",
              "      <td>0.0</td>\n",
              "      <td>0.0</td>\n",
              "      <td>0.0</td>\n",
              "      <td>0.0</td>\n",
              "      <td>0.0</td>\n",
              "      <td>0.0</td>\n",
              "      <td>0.0</td>\n",
              "      <td>0.0</td>\n",
              "      <td>0.0</td>\n",
              "      <td>1</td>\n",
              "      <td>73</td>\n",
              "      <td>3</td>\n",
              "      <td>3</td>\n",
              "      <td>12.0</td>\n",
              "      <td>1011.478060</td>\n",
              "      <td>3.0</td>\n",
              "      <td>2.845772</td>\n",
              "      <td>1.283933</td>\n",
              "      <td>2.629005</td>\n",
              "      <td>5.000000</td>\n",
              "      <td>2.217331</td>\n",
              "      <td>2.313900</td>\n",
              "      <td>5.000000</td>\n",
              "      <td>1.268648</td>\n",
              "      <td>2.958985</td>\n",
              "      <td>0.000000</td>\n",
              "      <td>5.627488</td>\n",
              "      <td>5.863078</td>\n",
              "      <td>5.878686</td>\n",
              "      <td>42.886826</td>\n",
              "      <td>0.0</td>\n",
              "      <td>0</td>\n",
              "    </tr>\n",
              "    <tr>\n",
              "      <th>4</th>\n",
              "      <td>31139</td>\n",
              "      <td>0.0</td>\n",
              "      <td>0.0</td>\n",
              "      <td>0.0</td>\n",
              "      <td>0.0</td>\n",
              "      <td>3.0</td>\n",
              "      <td>1.0</td>\n",
              "      <td>0.0</td>\n",
              "      <td>0.0</td>\n",
              "      <td>0.0</td>\n",
              "      <td>2</td>\n",
              "      <td>18</td>\n",
              "      <td>2</td>\n",
              "      <td>3</td>\n",
              "      <td>11.0</td>\n",
              "      <td>1729.145497</td>\n",
              "      <td>3.0</td>\n",
              "      <td>5.000000</td>\n",
              "      <td>0.000000</td>\n",
              "      <td>0.991614</td>\n",
              "      <td>0.056664</td>\n",
              "      <td>0.211544</td>\n",
              "      <td>0.000000</td>\n",
              "      <td>4.088849</td>\n",
              "      <td>4.221442</td>\n",
              "      <td>10.000000</td>\n",
              "      <td>2.845774</td>\n",
              "      <td>0.000000</td>\n",
              "      <td>10.000000</td>\n",
              "      <td>9.658507</td>\n",
              "      <td>47.074393</td>\n",
              "      <td>4.0</td>\n",
              "      <td>0</td>\n",
              "    </tr>\n",
              "  </tbody>\n",
              "</table>\n",
              "</div>\n",
              "      <button class=\"colab-df-convert\" onclick=\"convertToInteractive('df-4a6d1e1e-9aef-4c6d-8d10-dd3a74478af2')\"\n",
              "              title=\"Convert this dataframe to an interactive table.\"\n",
              "              style=\"display:none;\">\n",
              "        \n",
              "  <svg xmlns=\"http://www.w3.org/2000/svg\" height=\"24px\"viewBox=\"0 0 24 24\"\n",
              "       width=\"24px\">\n",
              "    <path d=\"M0 0h24v24H0V0z\" fill=\"none\"/>\n",
              "    <path d=\"M18.56 5.44l.94 2.06.94-2.06 2.06-.94-2.06-.94-.94-2.06-.94 2.06-2.06.94zm-11 1L8.5 8.5l.94-2.06 2.06-.94-2.06-.94L8.5 2.5l-.94 2.06-2.06.94zm10 10l.94 2.06.94-2.06 2.06-.94-2.06-.94-.94-2.06-.94 2.06-2.06.94z\"/><path d=\"M17.41 7.96l-1.37-1.37c-.4-.4-.92-.59-1.43-.59-.52 0-1.04.2-1.43.59L10.3 9.45l-7.72 7.72c-.78.78-.78 2.05 0 2.83L4 21.41c.39.39.9.59 1.41.59.51 0 1.02-.2 1.41-.59l7.78-7.78 2.81-2.81c.8-.78.8-2.07 0-2.86zM5.41 20L4 18.59l7.72-7.72 1.47 1.35L5.41 20z\"/>\n",
              "  </svg>\n",
              "      </button>\n",
              "      \n",
              "  <style>\n",
              "    .colab-df-container {\n",
              "      display:flex;\n",
              "      flex-wrap:wrap;\n",
              "      gap: 12px;\n",
              "    }\n",
              "\n",
              "    .colab-df-convert {\n",
              "      background-color: #E8F0FE;\n",
              "      border: none;\n",
              "      border-radius: 50%;\n",
              "      cursor: pointer;\n",
              "      display: none;\n",
              "      fill: #1967D2;\n",
              "      height: 32px;\n",
              "      padding: 0 0 0 0;\n",
              "      width: 32px;\n",
              "    }\n",
              "\n",
              "    .colab-df-convert:hover {\n",
              "      background-color: #E2EBFA;\n",
              "      box-shadow: 0px 1px 2px rgba(60, 64, 67, 0.3), 0px 1px 3px 1px rgba(60, 64, 67, 0.15);\n",
              "      fill: #174EA6;\n",
              "    }\n",
              "\n",
              "    [theme=dark] .colab-df-convert {\n",
              "      background-color: #3B4455;\n",
              "      fill: #D2E3FC;\n",
              "    }\n",
              "\n",
              "    [theme=dark] .colab-df-convert:hover {\n",
              "      background-color: #434B5C;\n",
              "      box-shadow: 0px 1px 3px 1px rgba(0, 0, 0, 0.15);\n",
              "      filter: drop-shadow(0px 1px 2px rgba(0, 0, 0, 0.3));\n",
              "      fill: #FFFFFF;\n",
              "    }\n",
              "  </style>\n",
              "\n",
              "      <script>\n",
              "        const buttonEl =\n",
              "          document.querySelector('#df-4a6d1e1e-9aef-4c6d-8d10-dd3a74478af2 button.colab-df-convert');\n",
              "        buttonEl.style.display =\n",
              "          google.colab.kernel.accessAllowed ? 'block' : 'none';\n",
              "\n",
              "        async function convertToInteractive(key) {\n",
              "          const element = document.querySelector('#df-4a6d1e1e-9aef-4c6d-8d10-dd3a74478af2');\n",
              "          const dataTable =\n",
              "            await google.colab.kernel.invokeFunction('convertToInteractive',\n",
              "                                                     [key], {});\n",
              "          if (!dataTable) return;\n",
              "\n",
              "          const docLinkHtml = 'Like what you see? Visit the ' +\n",
              "            '<a target=\"_blank\" href=https://colab.research.google.com/notebooks/data_table.ipynb>data table notebook</a>'\n",
              "            + ' to learn more about interactive tables.';\n",
              "          element.innerHTML = '';\n",
              "          dataTable['output_type'] = 'display_data';\n",
              "          await google.colab.output.renderOutput(dataTable, element);\n",
              "          const docLink = document.createElement('div');\n",
              "          docLink.innerHTML = docLinkHtml;\n",
              "          element.appendChild(docLink);\n",
              "        }\n",
              "      </script>\n",
              "    </div>\n",
              "  </div>\n",
              "  "
            ],
            "text/plain": [
              "    SEQN  DPQ010  DPQ020  ...  HEI2015_TOTAL_SCORE  phq9  phq_grp\n",
              "0  31130     NaN     NaN  ...                  NaN   NaN        0\n",
              "1  31131     0.0     0.0  ...            35.553899   0.0        0\n",
              "2  31132     0.0     0.0  ...            63.551696   0.0        0\n",
              "3  31134     0.0     0.0  ...            42.886826   0.0        0\n",
              "4  31139     0.0     0.0  ...            47.074393   4.0        0\n",
              "\n",
              "[5 rows x 33 columns]"
            ]
          },
          "metadata": {},
          "execution_count": 28
        }
      ],
      "source": [
        "combinaçao.head()"
      ]
    },
    {
      "cell_type": "markdown",
      "source": [
        "**EDA: UNIVARIADA**"
      ],
      "metadata": {
        "id": "VbyUJUxFuNzr"
      }
    },
    {
      "cell_type": "code",
      "source": [
        "combinaçao.drop(columns=['SEQN']).describe(percentiles=[.01,.05,.25,.5,.75,.95,.99]).round(2)"
      ],
      "metadata": {
        "colab": {
          "base_uri": "https://localhost:8080/",
          "height": 490
        },
        "id": "JQXZWEJzuVkM",
        "outputId": "3f9a6a6f-a420-4c16-cc4c-b94961847867"
      },
      "execution_count": 29,
      "outputs": [
        {
          "output_type": "execute_result",
          "data": {
            "text/html": [
              "\n",
              "  <div id=\"df-1db5fa9d-d4d6-4497-abe8-e4ca6d0fd669\">\n",
              "    <div class=\"colab-df-container\">\n",
              "      <div>\n",
              "<style scoped>\n",
              "    .dataframe tbody tr th:only-of-type {\n",
              "        vertical-align: middle;\n",
              "    }\n",
              "\n",
              "    .dataframe tbody tr th {\n",
              "        vertical-align: top;\n",
              "    }\n",
              "\n",
              "    .dataframe thead th {\n",
              "        text-align: right;\n",
              "    }\n",
              "</style>\n",
              "<table border=\"1\" class=\"dataframe\">\n",
              "  <thead>\n",
              "    <tr style=\"text-align: right;\">\n",
              "      <th></th>\n",
              "      <th>DPQ010</th>\n",
              "      <th>DPQ020</th>\n",
              "      <th>DPQ030</th>\n",
              "      <th>DPQ040</th>\n",
              "      <th>DPQ050</th>\n",
              "      <th>DPQ060</th>\n",
              "      <th>DPQ070</th>\n",
              "      <th>DPQ080</th>\n",
              "      <th>DPQ090</th>\n",
              "      <th>RIAGENDR</th>\n",
              "      <th>RIDAGEYR</th>\n",
              "      <th>RIDRETH1</th>\n",
              "      <th>DMDEDUC</th>\n",
              "      <th>PAG_MINW</th>\n",
              "      <th>ADHERENCE</th>\n",
              "      <th>HEI2015C1_TOTALVEG</th>\n",
              "      <th>HEI2015C2_GREEN_AND_BEAN</th>\n",
              "      <th>HEI2015C3_TOTALFRUIT</th>\n",
              "      <th>HEI2015C4_WHOLEFRUIT</th>\n",
              "      <th>HEI2015C5_WHOLEGRAIN</th>\n",
              "      <th>HEI2015C6_TOTALDAIRY</th>\n",
              "      <th>HEI2015C7_TOTPROT</th>\n",
              "      <th>HEI2015C8_SEAPLANT_PROT</th>\n",
              "      <th>HEI2015C9_FATTYACID</th>\n",
              "      <th>HEI2015C10_SODIUM</th>\n",
              "      <th>HEI2015C11_REFINEDGRAIN</th>\n",
              "      <th>HEI2015C12_SFAT</th>\n",
              "      <th>HEI2015C13_ADDSUG</th>\n",
              "      <th>HEI2015_TOTAL_SCORE</th>\n",
              "      <th>phq9</th>\n",
              "      <th>phq_grp</th>\n",
              "    </tr>\n",
              "  </thead>\n",
              "  <tbody>\n",
              "    <tr>\n",
              "      <th>count</th>\n",
              "      <td>4799.00</td>\n",
              "      <td>4799.00</td>\n",
              "      <td>4799.00</td>\n",
              "      <td>4799.00</td>\n",
              "      <td>4799.00</td>\n",
              "      <td>4799.00</td>\n",
              "      <td>4799.00</td>\n",
              "      <td>4799.00</td>\n",
              "      <td>4799.00</td>\n",
              "      <td>5297.00</td>\n",
              "      <td>5297.00</td>\n",
              "      <td>5297.00</td>\n",
              "      <td>5297.00</td>\n",
              "      <td>5297.00</td>\n",
              "      <td>5297.00</td>\n",
              "      <td>5027.00</td>\n",
              "      <td>5027.00</td>\n",
              "      <td>5027.00</td>\n",
              "      <td>5027.00</td>\n",
              "      <td>5027.00</td>\n",
              "      <td>5027.00</td>\n",
              "      <td>5027.00</td>\n",
              "      <td>5027.00</td>\n",
              "      <td>5027.00</td>\n",
              "      <td>5027.00</td>\n",
              "      <td>5027.00</td>\n",
              "      <td>5027.00</td>\n",
              "      <td>5027.00</td>\n",
              "      <td>5027.00</td>\n",
              "      <td>4799.00</td>\n",
              "      <td>5297.00</td>\n",
              "    </tr>\n",
              "    <tr>\n",
              "      <th>mean</th>\n",
              "      <td>0.29</td>\n",
              "      <td>0.30</td>\n",
              "      <td>0.53</td>\n",
              "      <td>0.70</td>\n",
              "      <td>0.31</td>\n",
              "      <td>0.20</td>\n",
              "      <td>0.22</td>\n",
              "      <td>0.13</td>\n",
              "      <td>0.05</td>\n",
              "      <td>1.52</td>\n",
              "      <td>44.93</td>\n",
              "      <td>2.87</td>\n",
              "      <td>3.24</td>\n",
              "      <td>473.75</td>\n",
              "      <td>1.98</td>\n",
              "      <td>3.21</td>\n",
              "      <td>1.81</td>\n",
              "      <td>2.49</td>\n",
              "      <td>2.36</td>\n",
              "      <td>1.76</td>\n",
              "      <td>3.76</td>\n",
              "      <td>4.43</td>\n",
              "      <td>2.59</td>\n",
              "      <td>4.71</td>\n",
              "      <td>4.76</td>\n",
              "      <td>5.79</td>\n",
              "      <td>6.07</td>\n",
              "      <td>6.22</td>\n",
              "      <td>49.95</td>\n",
              "      <td>2.73</td>\n",
              "      <td>0.21</td>\n",
              "    </tr>\n",
              "    <tr>\n",
              "      <th>std</th>\n",
              "      <td>0.65</td>\n",
              "      <td>0.65</td>\n",
              "      <td>0.87</td>\n",
              "      <td>0.87</td>\n",
              "      <td>0.69</td>\n",
              "      <td>0.55</td>\n",
              "      <td>0.59</td>\n",
              "      <td>0.45</td>\n",
              "      <td>0.27</td>\n",
              "      <td>0.50</td>\n",
              "      <td>20.07</td>\n",
              "      <td>1.13</td>\n",
              "      <td>1.27</td>\n",
              "      <td>782.30</td>\n",
              "      <td>0.92</td>\n",
              "      <td>1.47</td>\n",
              "      <td>2.14</td>\n",
              "      <td>1.95</td>\n",
              "      <td>2.17</td>\n",
              "      <td>1.92</td>\n",
              "      <td>1.60</td>\n",
              "      <td>1.01</td>\n",
              "      <td>2.17</td>\n",
              "      <td>3.23</td>\n",
              "      <td>3.42</td>\n",
              "      <td>3.50</td>\n",
              "      <td>3.17</td>\n",
              "      <td>3.33</td>\n",
              "      <td>12.32</td>\n",
              "      <td>3.73</td>\n",
              "      <td>0.58</td>\n",
              "    </tr>\n",
              "    <tr>\n",
              "      <th>min</th>\n",
              "      <td>0.00</td>\n",
              "      <td>0.00</td>\n",
              "      <td>0.00</td>\n",
              "      <td>0.00</td>\n",
              "      <td>0.00</td>\n",
              "      <td>0.00</td>\n",
              "      <td>0.00</td>\n",
              "      <td>0.00</td>\n",
              "      <td>0.00</td>\n",
              "      <td>1.00</td>\n",
              "      <td>18.00</td>\n",
              "      <td>1.00</td>\n",
              "      <td>1.00</td>\n",
              "      <td>0.00</td>\n",
              "      <td>1.00</td>\n",
              "      <td>0.00</td>\n",
              "      <td>0.00</td>\n",
              "      <td>0.00</td>\n",
              "      <td>0.00</td>\n",
              "      <td>0.00</td>\n",
              "      <td>0.00</td>\n",
              "      <td>0.00</td>\n",
              "      <td>0.00</td>\n",
              "      <td>0.00</td>\n",
              "      <td>0.00</td>\n",
              "      <td>0.00</td>\n",
              "      <td>0.00</td>\n",
              "      <td>0.00</td>\n",
              "      <td>16.06</td>\n",
              "      <td>0.00</td>\n",
              "      <td>0.00</td>\n",
              "    </tr>\n",
              "    <tr>\n",
              "      <th>1%</th>\n",
              "      <td>0.00</td>\n",
              "      <td>0.00</td>\n",
              "      <td>0.00</td>\n",
              "      <td>0.00</td>\n",
              "      <td>0.00</td>\n",
              "      <td>0.00</td>\n",
              "      <td>0.00</td>\n",
              "      <td>0.00</td>\n",
              "      <td>0.00</td>\n",
              "      <td>1.00</td>\n",
              "      <td>18.00</td>\n",
              "      <td>1.00</td>\n",
              "      <td>1.00</td>\n",
              "      <td>0.00</td>\n",
              "      <td>1.00</td>\n",
              "      <td>0.00</td>\n",
              "      <td>0.00</td>\n",
              "      <td>0.00</td>\n",
              "      <td>0.00</td>\n",
              "      <td>0.00</td>\n",
              "      <td>0.00</td>\n",
              "      <td>0.80</td>\n",
              "      <td>0.00</td>\n",
              "      <td>0.00</td>\n",
              "      <td>0.00</td>\n",
              "      <td>0.00</td>\n",
              "      <td>0.00</td>\n",
              "      <td>0.00</td>\n",
              "      <td>24.65</td>\n",
              "      <td>0.00</td>\n",
              "      <td>0.00</td>\n",
              "    </tr>\n",
              "    <tr>\n",
              "      <th>5%</th>\n",
              "      <td>0.00</td>\n",
              "      <td>0.00</td>\n",
              "      <td>0.00</td>\n",
              "      <td>0.00</td>\n",
              "      <td>0.00</td>\n",
              "      <td>0.00</td>\n",
              "      <td>0.00</td>\n",
              "      <td>0.00</td>\n",
              "      <td>0.00</td>\n",
              "      <td>1.00</td>\n",
              "      <td>18.00</td>\n",
              "      <td>1.00</td>\n",
              "      <td>1.00</td>\n",
              "      <td>0.00</td>\n",
              "      <td>1.00</td>\n",
              "      <td>0.69</td>\n",
              "      <td>0.00</td>\n",
              "      <td>0.00</td>\n",
              "      <td>0.00</td>\n",
              "      <td>0.00</td>\n",
              "      <td>0.42</td>\n",
              "      <td>2.17</td>\n",
              "      <td>0.00</td>\n",
              "      <td>0.00</td>\n",
              "      <td>0.00</td>\n",
              "      <td>0.00</td>\n",
              "      <td>0.00</td>\n",
              "      <td>0.00</td>\n",
              "      <td>30.79</td>\n",
              "      <td>0.00</td>\n",
              "      <td>0.00</td>\n",
              "    </tr>\n",
              "    <tr>\n",
              "      <th>25%</th>\n",
              "      <td>0.00</td>\n",
              "      <td>0.00</td>\n",
              "      <td>0.00</td>\n",
              "      <td>0.00</td>\n",
              "      <td>0.00</td>\n",
              "      <td>0.00</td>\n",
              "      <td>0.00</td>\n",
              "      <td>0.00</td>\n",
              "      <td>0.00</td>\n",
              "      <td>1.00</td>\n",
              "      <td>27.00</td>\n",
              "      <td>3.00</td>\n",
              "      <td>2.00</td>\n",
              "      <td>38.11</td>\n",
              "      <td>1.00</td>\n",
              "      <td>2.06</td>\n",
              "      <td>0.00</td>\n",
              "      <td>0.44</td>\n",
              "      <td>0.00</td>\n",
              "      <td>0.00</td>\n",
              "      <td>2.60</td>\n",
              "      <td>4.17</td>\n",
              "      <td>0.00</td>\n",
              "      <td>2.02</td>\n",
              "      <td>1.58</td>\n",
              "      <td>2.92</td>\n",
              "      <td>3.70</td>\n",
              "      <td>3.72</td>\n",
              "      <td>40.99</td>\n",
              "      <td>0.00</td>\n",
              "      <td>0.00</td>\n",
              "    </tr>\n",
              "    <tr>\n",
              "      <th>50%</th>\n",
              "      <td>0.00</td>\n",
              "      <td>0.00</td>\n",
              "      <td>0.00</td>\n",
              "      <td>0.00</td>\n",
              "      <td>0.00</td>\n",
              "      <td>0.00</td>\n",
              "      <td>0.00</td>\n",
              "      <td>0.00</td>\n",
              "      <td>0.00</td>\n",
              "      <td>2.00</td>\n",
              "      <td>42.00</td>\n",
              "      <td>3.00</td>\n",
              "      <td>3.00</td>\n",
              "      <td>210.00</td>\n",
              "      <td>2.00</td>\n",
              "      <td>3.22</td>\n",
              "      <td>0.07</td>\n",
              "      <td>2.32</td>\n",
              "      <td>2.06</td>\n",
              "      <td>1.02</td>\n",
              "      <td>4.94</td>\n",
              "      <td>5.00</td>\n",
              "      <td>2.58</td>\n",
              "      <td>4.43</td>\n",
              "      <td>4.83</td>\n",
              "      <td>6.22</td>\n",
              "      <td>6.41</td>\n",
              "      <td>6.87</td>\n",
              "      <td>49.49</td>\n",
              "      <td>1.00</td>\n",
              "      <td>0.00</td>\n",
              "    </tr>\n",
              "    <tr>\n",
              "      <th>75%</th>\n",
              "      <td>0.00</td>\n",
              "      <td>0.00</td>\n",
              "      <td>1.00</td>\n",
              "      <td>1.00</td>\n",
              "      <td>0.00</td>\n",
              "      <td>0.00</td>\n",
              "      <td>0.00</td>\n",
              "      <td>0.00</td>\n",
              "      <td>0.00</td>\n",
              "      <td>2.00</td>\n",
              "      <td>61.00</td>\n",
              "      <td>4.00</td>\n",
              "      <td>4.00</td>\n",
              "      <td>571.13</td>\n",
              "      <td>3.00</td>\n",
              "      <td>4.83</td>\n",
              "      <td>4.49</td>\n",
              "      <td>4.94</td>\n",
              "      <td>5.00</td>\n",
              "      <td>3.40</td>\n",
              "      <td>5.00</td>\n",
              "      <td>5.00</td>\n",
              "      <td>5.00</td>\n",
              "      <td>7.26</td>\n",
              "      <td>7.65</td>\n",
              "      <td>9.25</td>\n",
              "      <td>8.98</td>\n",
              "      <td>9.45</td>\n",
              "      <td>58.13</td>\n",
              "      <td>4.00</td>\n",
              "      <td>0.00</td>\n",
              "    </tr>\n",
              "    <tr>\n",
              "      <th>95%</th>\n",
              "      <td>2.00</td>\n",
              "      <td>2.00</td>\n",
              "      <td>3.00</td>\n",
              "      <td>3.00</td>\n",
              "      <td>2.00</td>\n",
              "      <td>1.00</td>\n",
              "      <td>1.00</td>\n",
              "      <td>1.00</td>\n",
              "      <td>0.00</td>\n",
              "      <td>2.00</td>\n",
              "      <td>81.00</td>\n",
              "      <td>4.00</td>\n",
              "      <td>5.00</td>\n",
              "      <td>1870.67</td>\n",
              "      <td>3.00</td>\n",
              "      <td>5.00</td>\n",
              "      <td>5.00</td>\n",
              "      <td>5.00</td>\n",
              "      <td>5.00</td>\n",
              "      <td>5.00</td>\n",
              "      <td>5.00</td>\n",
              "      <td>5.00</td>\n",
              "      <td>5.00</td>\n",
              "      <td>10.00</td>\n",
              "      <td>10.00</td>\n",
              "      <td>10.00</td>\n",
              "      <td>10.00</td>\n",
              "      <td>10.00</td>\n",
              "      <td>71.20</td>\n",
              "      <td>10.00</td>\n",
              "      <td>1.00</td>\n",
              "    </tr>\n",
              "    <tr>\n",
              "      <th>99%</th>\n",
              "      <td>3.00</td>\n",
              "      <td>3.00</td>\n",
              "      <td>3.00</td>\n",
              "      <td>3.00</td>\n",
              "      <td>3.00</td>\n",
              "      <td>3.00</td>\n",
              "      <td>3.00</td>\n",
              "      <td>2.00</td>\n",
              "      <td>1.00</td>\n",
              "      <td>2.00</td>\n",
              "      <td>85.00</td>\n",
              "      <td>5.00</td>\n",
              "      <td>5.00</td>\n",
              "      <td>3673.40</td>\n",
              "      <td>3.00</td>\n",
              "      <td>5.00</td>\n",
              "      <td>5.00</td>\n",
              "      <td>5.00</td>\n",
              "      <td>5.00</td>\n",
              "      <td>5.00</td>\n",
              "      <td>5.00</td>\n",
              "      <td>5.00</td>\n",
              "      <td>5.00</td>\n",
              "      <td>10.00</td>\n",
              "      <td>10.00</td>\n",
              "      <td>10.00</td>\n",
              "      <td>10.00</td>\n",
              "      <td>10.00</td>\n",
              "      <td>79.81</td>\n",
              "      <td>17.00</td>\n",
              "      <td>3.00</td>\n",
              "    </tr>\n",
              "    <tr>\n",
              "      <th>max</th>\n",
              "      <td>3.00</td>\n",
              "      <td>3.00</td>\n",
              "      <td>3.00</td>\n",
              "      <td>3.00</td>\n",
              "      <td>3.00</td>\n",
              "      <td>3.00</td>\n",
              "      <td>3.00</td>\n",
              "      <td>3.00</td>\n",
              "      <td>3.00</td>\n",
              "      <td>2.00</td>\n",
              "      <td>85.00</td>\n",
              "      <td>5.00</td>\n",
              "      <td>9.00</td>\n",
              "      <td>10777.83</td>\n",
              "      <td>3.00</td>\n",
              "      <td>5.00</td>\n",
              "      <td>5.00</td>\n",
              "      <td>5.00</td>\n",
              "      <td>5.00</td>\n",
              "      <td>5.00</td>\n",
              "      <td>5.00</td>\n",
              "      <td>5.00</td>\n",
              "      <td>5.00</td>\n",
              "      <td>10.00</td>\n",
              "      <td>10.00</td>\n",
              "      <td>10.00</td>\n",
              "      <td>10.00</td>\n",
              "      <td>10.00</td>\n",
              "      <td>89.53</td>\n",
              "      <td>27.00</td>\n",
              "      <td>4.00</td>\n",
              "    </tr>\n",
              "  </tbody>\n",
              "</table>\n",
              "</div>\n",
              "      <button class=\"colab-df-convert\" onclick=\"convertToInteractive('df-1db5fa9d-d4d6-4497-abe8-e4ca6d0fd669')\"\n",
              "              title=\"Convert this dataframe to an interactive table.\"\n",
              "              style=\"display:none;\">\n",
              "        \n",
              "  <svg xmlns=\"http://www.w3.org/2000/svg\" height=\"24px\"viewBox=\"0 0 24 24\"\n",
              "       width=\"24px\">\n",
              "    <path d=\"M0 0h24v24H0V0z\" fill=\"none\"/>\n",
              "    <path d=\"M18.56 5.44l.94 2.06.94-2.06 2.06-.94-2.06-.94-.94-2.06-.94 2.06-2.06.94zm-11 1L8.5 8.5l.94-2.06 2.06-.94-2.06-.94L8.5 2.5l-.94 2.06-2.06.94zm10 10l.94 2.06.94-2.06 2.06-.94-2.06-.94-.94-2.06-.94 2.06-2.06.94z\"/><path d=\"M17.41 7.96l-1.37-1.37c-.4-.4-.92-.59-1.43-.59-.52 0-1.04.2-1.43.59L10.3 9.45l-7.72 7.72c-.78.78-.78 2.05 0 2.83L4 21.41c.39.39.9.59 1.41.59.51 0 1.02-.2 1.41-.59l7.78-7.78 2.81-2.81c.8-.78.8-2.07 0-2.86zM5.41 20L4 18.59l7.72-7.72 1.47 1.35L5.41 20z\"/>\n",
              "  </svg>\n",
              "      </button>\n",
              "      \n",
              "  <style>\n",
              "    .colab-df-container {\n",
              "      display:flex;\n",
              "      flex-wrap:wrap;\n",
              "      gap: 12px;\n",
              "    }\n",
              "\n",
              "    .colab-df-convert {\n",
              "      background-color: #E8F0FE;\n",
              "      border: none;\n",
              "      border-radius: 50%;\n",
              "      cursor: pointer;\n",
              "      display: none;\n",
              "      fill: #1967D2;\n",
              "      height: 32px;\n",
              "      padding: 0 0 0 0;\n",
              "      width: 32px;\n",
              "    }\n",
              "\n",
              "    .colab-df-convert:hover {\n",
              "      background-color: #E2EBFA;\n",
              "      box-shadow: 0px 1px 2px rgba(60, 64, 67, 0.3), 0px 1px 3px 1px rgba(60, 64, 67, 0.15);\n",
              "      fill: #174EA6;\n",
              "    }\n",
              "\n",
              "    [theme=dark] .colab-df-convert {\n",
              "      background-color: #3B4455;\n",
              "      fill: #D2E3FC;\n",
              "    }\n",
              "\n",
              "    [theme=dark] .colab-df-convert:hover {\n",
              "      background-color: #434B5C;\n",
              "      box-shadow: 0px 1px 3px 1px rgba(0, 0, 0, 0.15);\n",
              "      filter: drop-shadow(0px 1px 2px rgba(0, 0, 0, 0.3));\n",
              "      fill: #FFFFFF;\n",
              "    }\n",
              "  </style>\n",
              "\n",
              "      <script>\n",
              "        const buttonEl =\n",
              "          document.querySelector('#df-1db5fa9d-d4d6-4497-abe8-e4ca6d0fd669 button.colab-df-convert');\n",
              "        buttonEl.style.display =\n",
              "          google.colab.kernel.accessAllowed ? 'block' : 'none';\n",
              "\n",
              "        async function convertToInteractive(key) {\n",
              "          const element = document.querySelector('#df-1db5fa9d-d4d6-4497-abe8-e4ca6d0fd669');\n",
              "          const dataTable =\n",
              "            await google.colab.kernel.invokeFunction('convertToInteractive',\n",
              "                                                     [key], {});\n",
              "          if (!dataTable) return;\n",
              "\n",
              "          const docLinkHtml = 'Like what you see? Visit the ' +\n",
              "            '<a target=\"_blank\" href=https://colab.research.google.com/notebooks/data_table.ipynb>data table notebook</a>'\n",
              "            + ' to learn more about interactive tables.';\n",
              "          element.innerHTML = '';\n",
              "          dataTable['output_type'] = 'display_data';\n",
              "          await google.colab.output.renderOutput(dataTable, element);\n",
              "          const docLink = document.createElement('div');\n",
              "          docLink.innerHTML = docLinkHtml;\n",
              "          element.appendChild(docLink);\n",
              "        }\n",
              "      </script>\n",
              "    </div>\n",
              "  </div>\n",
              "  "
            ],
            "text/plain": [
              "        DPQ010   DPQ020   DPQ030  ...  HEI2015_TOTAL_SCORE     phq9  phq_grp\n",
              "count  4799.00  4799.00  4799.00  ...              5027.00  4799.00  5297.00\n",
              "mean      0.29     0.30     0.53  ...                49.95     2.73     0.21\n",
              "std       0.65     0.65     0.87  ...                12.32     3.73     0.58\n",
              "min       0.00     0.00     0.00  ...                16.06     0.00     0.00\n",
              "1%        0.00     0.00     0.00  ...                24.65     0.00     0.00\n",
              "5%        0.00     0.00     0.00  ...                30.79     0.00     0.00\n",
              "25%       0.00     0.00     0.00  ...                40.99     0.00     0.00\n",
              "50%       0.00     0.00     0.00  ...                49.49     1.00     0.00\n",
              "75%       0.00     0.00     1.00  ...                58.13     4.00     0.00\n",
              "95%       2.00     2.00     3.00  ...                71.20    10.00     1.00\n",
              "99%       3.00     3.00     3.00  ...                79.81    17.00     3.00\n",
              "max       3.00     3.00     3.00  ...                89.53    27.00     4.00\n",
              "\n",
              "[12 rows x 31 columns]"
            ]
          },
          "metadata": {},
          "execution_count": 29
        }
      ]
    },
    {
      "cell_type": "code",
      "source": [
        "sns.displot(combinaçao, x = 'RIDAGEYR', kde=True)\n",
        "sns.displot(combinaçao, x = 'PAG_MINW', kde=True)\n",
        "sns.displot(combinaçao, x = 'INDFMINC', kde=True)\n",
        "sns.displot(combinaçao, x = 'HEI2015_TOTAL_SCORE', kde=True)\n",
        "plt.show()\n",
        "#Plotação de histogramas das variáveis referentes a idade, tempo de atividade física, renda e score de alimentação"
      ],
      "metadata": {
        "colab": {
          "base_uri": "https://localhost:8080/",
          "height": 1000
        },
        "id": "of1hc39dxwHF",
        "outputId": "ddeecbdd-b016-40ec-b191-19703259b20c"
      },
      "execution_count": 30,
      "outputs": [
        {
          "output_type": "display_data",
          "data": {
            "image/png": "[encoded data removed]",
            "text/plain": [
              "<Figure size 360x360 with 1 Axes>"
            ]
          },
          "metadata": {
            "needs_background": "light"
          }
        },
        {
          "output_type": "display_data",
          "data": {
            "image/png": "[encoded data removed]",
            "text/plain": [
              "<Figure size 360x360 with 1 Axes>"
            ]
          },
          "metadata": {
            "needs_background": "light"
          }
        },
        {
          "output_type": "display_data",
          "data": {
            "image/png": "[encoded data removed]",
            "text/plain": [
              "<Figure size 360x360 with 1 Axes>"
            ]
          },
          "metadata": {
            "needs_background": "light"
          }
        },
        {
          "output_type": "display_data",
          "data": {
            "image/png": "[encoded data removed]",
            "text/plain": [
              "<Figure size 360x360 with 1 Axes>"
            ]
          },
          "metadata": {
            "needs_background": "light"
          }
        }
      ]
    },
    {
      "cell_type": "code",
      "source": [
        "combinaçao['PAG_MINW_log'] = np.log(combinaçao['PAG_MINW'] + 1)"
      ],
      "metadata": {
        "id": "tQu31mXo0vTD"
      },
      "execution_count": 31,
      "outputs": []
    },
    {
      "cell_type": "code",
      "source": [
        "sns.displot(combinaçao, x = 'PAG_MINW_log', kde=True)"
      ],
      "metadata": {
        "colab": {
          "base_uri": "https://localhost:8080/",
          "height": 387
        },
        "id": "ak53XqB01wht",
        "outputId": "6eea8ba2-e438-4e5c-f776-7ed233620b1d"
      },
      "execution_count": 32,
      "outputs": [
        {
          "output_type": "execute_result",
          "data": {
            "text/plain": [
              "<seaborn.axisgrid.FacetGrid at 0x7fe0c1309c10>"
            ]
          },
          "metadata": {},
          "execution_count": 32
        },
        {
          "output_type": "display_data",
          "data": {
            "image/png": "[encoded data removed]",
            "text/plain": [
              "<Figure size 360x360 with 1 Axes>"
            ]
          },
          "metadata": {
            "needs_background": "light"
          }
        }
      ]
    },
    {
      "cell_type": "code",
      "source": [
        "def grafico_barras(data, variable):\n",
        "  (data[[variable]]\n",
        "   .value_counts(normalize=True, sort = False)\n",
        "   .rename('Proportion')\n",
        "   .reset_index()\n",
        "   .pipe((sns.barplot,'data'), x=variable, y='Proportion'))\n",
        "  plt.ylim(0,1)\n",
        "  plt.show()"
      ],
      "metadata": {
        "id": "Ym_K3A_t2vg2"
      },
      "execution_count": 33,
      "outputs": []
    },
    {
      "cell_type": "code",
      "source": [
        "grafico_barras(combinaçao, variable = 'RIAGENDR')"
      ],
      "metadata": {
        "colab": {
          "base_uri": "https://localhost:8080/",
          "height": 283
        },
        "id": "6XXJ_z7W3pG-",
        "outputId": "2b41be4a-801a-42d7-ccef-28a9836c6d58"
      },
      "execution_count": 34,
      "outputs": [
        {
          "output_type": "display_data",
          "data": {
            "image/png": "[encoded data removed]",
            "text/plain": [
              "<Figure size 432x288 with 1 Axes>"
            ]
          },
          "metadata": {
            "needs_background": "light"
          }
        }
      ]
    },
    {
      "cell_type": "code",
      "source": [
        "grafico_barras(combinaçao, variable = 'ADHERENCE')"
      ],
      "metadata": {
        "colab": {
          "base_uri": "https://localhost:8080/",
          "height": 283
        },
        "id": "IwuMMuP44GRQ",
        "outputId": "941784cd-39b5-49a4-c516-ff56b57a2c2c"
      },
      "execution_count": 35,
      "outputs": [
        {
          "output_type": "display_data",
          "data": {
            "image/png": "[encoded data removed]",
            "text/plain": [
              "<Figure size 432x288 with 1 Axes>"
            ]
          },
          "metadata": {
            "needs_background": "light"
          }
        }
      ]
    },
    {
      "cell_type": "code",
      "source": [
        "grafico_barras(combinaçao, variable = 'RIDRETH1')"
      ],
      "metadata": {
        "colab": {
          "base_uri": "https://localhost:8080/",
          "height": 283
        },
        "id": "vrXqVE7p4Ued",
        "outputId": "2bff3959-2533-4fcf-f080-ea54ece0f2e8"
      },
      "execution_count": 36,
      "outputs": [
        {
          "output_type": "display_data",
          "data": {
            "image/png": "[encoded data removed]",
            "text/plain": [
              "<Figure size 432x288 with 1 Axes>"
            ]
          },
          "metadata": {
            "needs_background": "light"
          }
        }
      ]
    },
    {
      "cell_type": "code",
      "source": [
        "grafico_barras(combinaçao, variable = 'phq_grp') #proporção da severidade dos sintomas"
      ],
      "metadata": {
        "colab": {
          "base_uri": "https://localhost:8080/",
          "height": 284
        },
        "id": "QIWpSdpJ5tBj",
        "outputId": "19ff22fb-111d-4541-e58f-15760c8a9732"
      },
      "execution_count": 37,
      "outputs": [
        {
          "output_type": "display_data",
          "data": {
            "image/png": "[encoded data removed]",
            "text/plain": [
              "<Figure size 432x288 with 1 Axes>"
            ]
          },
          "metadata": {
            "needs_background": "light"
          }
        }
      ]
    },
    {
      "cell_type": "markdown",
      "source": [
        "**EDA: BIVARIADA E TESTE DE HIPÓTESE**"
      ],
      "metadata": {
        "id": "QvexCMrP5_hh"
      }
    },
    {
      "cell_type": "code",
      "source": [
        "sns.boxplot(x=\"phq_grp\", y=\"RIDAGEYR\", data=combinaçao)"
      ],
      "metadata": {
        "colab": {
          "base_uri": "https://localhost:8080/",
          "height": 298
        },
        "id": "zt3YpX2g6Gur",
        "outputId": "01eb19ec-79c4-4d2d-bae6-deb242ad894d"
      },
      "execution_count": 38,
      "outputs": [
        {
          "output_type": "execute_result",
          "data": {
            "text/plain": [
              "<matplotlib.axes._subplots.AxesSubplot at 0x7fe0c1089490>"
            ]
          },
          "metadata": {},
          "execution_count": 38
        },
        {
          "output_type": "display_data",
          "data": {
            "image/png": "[encoded data removed]",
            "text/plain": [
              "<Figure size 432x288 with 1 Axes>"
            ]
          },
          "metadata": {
            "needs_background": "light"
          }
        }
      ]
    },
    {
      "cell_type": "code",
      "source": [
        "from scipy.stats import f_oneway\n",
        "combinaçao_aux = combinaçao[['phq_grp', 'RIDAGEYR']].dropna()\n",
        "stat, p = f_oneway(combinaçao_aux[(combinaçao_aux.phq_grp == 0)]['RIDAGEYR'],\n",
        "                  combinaçao_aux[(combinaçao_aux.phq_grp == 1)]['RIDAGEYR'],\n",
        "                  combinaçao_aux[(combinaçao_aux.phq_grp == 2)]['RIDAGEYR'],\n",
        "                  combinaçao_aux[(combinaçao_aux.phq_grp == 3)]['RIDAGEYR'],\n",
        "                  combinaçao_aux[(combinaçao_aux.phq_grp == 4)]['RIDAGEYR'])\n",
        "print('stat=%.3f, p=%.3f' % (stat, p))\n",
        "# Não é possível identificar grandes associaões entre sintomas de depressão é média de idade                                                              "
      ],
      "metadata": {
        "colab": {
          "base_uri": "https://localhost:8080/"
        },
        "id": "unQsNemeAdKi",
        "outputId": "26e39a19-ac35-432e-ae83-772e4214ba15"
      },
      "execution_count": 44,
      "outputs": [
        {
          "output_type": "stream",
          "name": "stdout",
          "text": [
            "stat=0.929, p=0.446\n"
          ]
        }
      ]
    },
    {
      "cell_type": "code",
      "source": [
        "sns.boxplot(x=\"phq_grp\", y=\"HEI2015_TOTAL_SCORE\", data=combinaçao)"
      ],
      "metadata": {
        "colab": {
          "base_uri": "https://localhost:8080/",
          "height": 298
        },
        "id": "LkNu7lwF-4Z-",
        "outputId": "9e2ff6b2-c0be-419c-e8d8-e288d4862b69"
      },
      "execution_count": 45,
      "outputs": [
        {
          "output_type": "execute_result",
          "data": {
            "text/plain": [
              "<matplotlib.axes._subplots.AxesSubplot at 0x7fe0bc870510>"
            ]
          },
          "metadata": {},
          "execution_count": 45
        },
        {
          "output_type": "display_data",
          "data": {
            "image/png": "[encoded data removed]",
            "text/plain": [
              "<Figure size 432x288 with 1 Axes>"
            ]
          },
          "metadata": {
            "needs_background": "light"
          }
        }
      ]
    },
    {
      "cell_type": "code",
      "source": [
        "from scipy.stats import f_oneway\n",
        "combinaçao_aux = combinaçao[['phq_grp', 'HEI2015_TOTAL_SCORE']].dropna()\n",
        "stat, p = f_oneway(combinaçao_aux[(combinaçao_aux.phq_grp == 0)]['HEI2015_TOTAL_SCORE'],\n",
        "                  combinaçao_aux[(combinaçao_aux.phq_grp == 1)]['HEI2015_TOTAL_SCORE'],\n",
        "                  combinaçao_aux[(combinaçao_aux.phq_grp == 2)]['HEI2015_TOTAL_SCORE'],\n",
        "                  combinaçao_aux[(combinaçao_aux.phq_grp == 3)]['HEI2015_TOTAL_SCORE'],\n",
        "                  combinaçao_aux[(combinaçao_aux.phq_grp == 4)]['HEI2015_TOTAL_SCORE'])\n",
        "print('stat=%.3f, p=%.3f' % (stat, p))\n",
        "# É possível afirmar que a alimentação \"ruim\" tem alguma associação com depressão."
      ],
      "metadata": {
        "colab": {
          "base_uri": "https://localhost:8080/"
        },
        "id": "rIUxryZqpsWM",
        "outputId": "e5c47e00-0fca-4045-9116-3205ca5562d2"
      },
      "execution_count": 46,
      "outputs": [
        {
          "output_type": "stream",
          "name": "stdout",
          "text": [
            "stat=4.396, p=0.002\n"
          ]
        }
      ]
    },
    {
      "cell_type": "code",
      "source": [
        ""
      ],
      "metadata": {
        "colab": {
          "base_uri": "https://localhost:8080/",
          "height": 602
        },
        "id": "z93lxFxrvzFV",
        "outputId": "ccfa4d72-5209-4865-b21d-da40ac91aec3"
      },
      "execution_count": 61,
      "outputs": [
        {
          "output_type": "error",
          "ename": "KeyError",
          "evalue": "ignored",
          "traceback": [
            "\u001b[0;31m---------------------------------------------------------------------------\u001b[0m",
            "\u001b[0;31mKeyError\u001b[0m                                  Traceback (most recent call last)",
            "\u001b[0;32m/usr/local/lib/python3.7/dist-packages/pandas/core/indexes/base.py\u001b[0m in \u001b[0;36mget_loc\u001b[0;34m(self, key, method, tolerance)\u001b[0m\n\u001b[1;32m   2897\u001b[0m             \u001b[0;32mtry\u001b[0m\u001b[0;34m:\u001b[0m\u001b[0;34m\u001b[0m\u001b[0;34m\u001b[0m\u001b[0m\n\u001b[0;32m-> 2898\u001b[0;31m                 \u001b[0;32mreturn\u001b[0m \u001b[0mself\u001b[0m\u001b[0;34m.\u001b[0m\u001b[0m_engine\u001b[0m\u001b[0;34m.\u001b[0m\u001b[0mget_loc\u001b[0m\u001b[0;34m(\u001b[0m\u001b[0mcasted_key\u001b[0m\u001b[0;34m)\u001b[0m\u001b[0;34m\u001b[0m\u001b[0;34m\u001b[0m\u001b[0m\n\u001b[0m\u001b[1;32m   2899\u001b[0m             \u001b[0;32mexcept\u001b[0m \u001b[0mKeyError\u001b[0m \u001b[0;32mas\u001b[0m \u001b[0merr\u001b[0m\u001b[0;34m:\u001b[0m\u001b[0;34m\u001b[0m\u001b[0;34m\u001b[0m\u001b[0m\n",
            "\u001b[0;32mpandas/_libs/index.pyx\u001b[0m in \u001b[0;36mpandas._libs.index.IndexEngine.get_loc\u001b[0;34m()\u001b[0m\n",
            "\u001b[0;32mpandas/_libs/index.pyx\u001b[0m in \u001b[0;36mpandas._libs.index.IndexEngine.get_loc\u001b[0;34m()\u001b[0m\n",
            "\u001b[0;32mpandas/_libs/hashtable_class_helper.pxi\u001b[0m in \u001b[0;36mpandas._libs.hashtable.PyObjectHashTable.get_item\u001b[0;34m()\u001b[0m\n",
            "\u001b[0;32mpandas/_libs/hashtable_class_helper.pxi\u001b[0m in \u001b[0;36mpandas._libs.hashtable.PyObjectHashTable.get_item\u001b[0;34m()\u001b[0m\n",
            "\u001b[0;31mKeyError\u001b[0m: 'HEI2015_TOTAL_SCORE'",
            "\nThe above exception was the direct cause of the following exception:\n",
            "\u001b[0;31mKeyError\u001b[0m                                  Traceback (most recent call last)",
            "\u001b[0;32m<ipython-input-61-2d642348a7b1>\u001b[0m in \u001b[0;36m<module>\u001b[0;34m()\u001b[0m\n\u001b[0;32m----> 1\u001b[0;31m tukey = pairwise_tukeyhsd(combinaçao_aux['HEI2015_TOTAL_SCORE'],\n\u001b[0m\u001b[1;32m      2\u001b[0m                           \u001b[0mcombinaçao_aux\u001b[0m\u001b[0;34m[\u001b[0m\u001b[0;34m'phq_grp'\u001b[0m\u001b[0;34m]\u001b[0m\u001b[0;34m,\u001b[0m\u001b[0;34m\u001b[0m\u001b[0;34m\u001b[0m\u001b[0m\n\u001b[1;32m      3\u001b[0m                           alpha = 0.05)\n\u001b[1;32m      4\u001b[0m \u001b[0mprint\u001b[0m\u001b[0;34m(\u001b[0m\u001b[0mtukey\u001b[0m\u001b[0;34m)\u001b[0m\u001b[0;34m\u001b[0m\u001b[0;34m\u001b[0m\u001b[0m\n",
            "\u001b[0;32m/usr/local/lib/python3.7/dist-packages/pandas/core/frame.py\u001b[0m in \u001b[0;36m__getitem__\u001b[0;34m(self, key)\u001b[0m\n\u001b[1;32m   2904\u001b[0m             \u001b[0;32mif\u001b[0m \u001b[0mself\u001b[0m\u001b[0;34m.\u001b[0m\u001b[0mcolumns\u001b[0m\u001b[0;34m.\u001b[0m\u001b[0mnlevels\u001b[0m \u001b[0;34m>\u001b[0m \u001b[0;36m1\u001b[0m\u001b[0;34m:\u001b[0m\u001b[0;34m\u001b[0m\u001b[0;34m\u001b[0m\u001b[0m\n\u001b[1;32m   2905\u001b[0m                 \u001b[0;32mreturn\u001b[0m \u001b[0mself\u001b[0m\u001b[0;34m.\u001b[0m\u001b[0m_getitem_multilevel\u001b[0m\u001b[0;34m(\u001b[0m\u001b[0mkey\u001b[0m\u001b[0;34m)\u001b[0m\u001b[0;34m\u001b[0m\u001b[0;34m\u001b[0m\u001b[0m\n\u001b[0;32m-> 2906\u001b[0;31m             \u001b[0mindexer\u001b[0m \u001b[0;34m=\u001b[0m \u001b[0mself\u001b[0m\u001b[0;34m.\u001b[0m\u001b[0mcolumns\u001b[0m\u001b[0;34m.\u001b[0m\u001b[0mget_loc\u001b[0m\u001b[0;34m(\u001b[0m\u001b[0mkey\u001b[0m\u001b[0;34m)\u001b[0m\u001b[0;34m\u001b[0m\u001b[0;34m\u001b[0m\u001b[0m\n\u001b[0m\u001b[1;32m   2907\u001b[0m             \u001b[0;32mif\u001b[0m \u001b[0mis_integer\u001b[0m\u001b[0;34m(\u001b[0m\u001b[0mindexer\u001b[0m\u001b[0;34m)\u001b[0m\u001b[0;34m:\u001b[0m\u001b[0;34m\u001b[0m\u001b[0;34m\u001b[0m\u001b[0m\n\u001b[1;32m   2908\u001b[0m                 \u001b[0mindexer\u001b[0m \u001b[0;34m=\u001b[0m \u001b[0;34m[\u001b[0m\u001b[0mindexer\u001b[0m\u001b[0;34m]\u001b[0m\u001b[0;34m\u001b[0m\u001b[0;34m\u001b[0m\u001b[0m\n",
            "\u001b[0;32m/usr/local/lib/python3.7/dist-packages/pandas/core/indexes/base.py\u001b[0m in \u001b[0;36mget_loc\u001b[0;34m(self, key, method, tolerance)\u001b[0m\n\u001b[1;32m   2898\u001b[0m                 \u001b[0;32mreturn\u001b[0m \u001b[0mself\u001b[0m\u001b[0;34m.\u001b[0m\u001b[0m_engine\u001b[0m\u001b[0;34m.\u001b[0m\u001b[0mget_loc\u001b[0m\u001b[0;34m(\u001b[0m\u001b[0mcasted_key\u001b[0m\u001b[0;34m)\u001b[0m\u001b[0;34m\u001b[0m\u001b[0;34m\u001b[0m\u001b[0m\n\u001b[1;32m   2899\u001b[0m             \u001b[0;32mexcept\u001b[0m \u001b[0mKeyError\u001b[0m \u001b[0;32mas\u001b[0m \u001b[0merr\u001b[0m\u001b[0;34m:\u001b[0m\u001b[0;34m\u001b[0m\u001b[0;34m\u001b[0m\u001b[0m\n\u001b[0;32m-> 2900\u001b[0;31m                 \u001b[0;32mraise\u001b[0m \u001b[0mKeyError\u001b[0m\u001b[0;34m(\u001b[0m\u001b[0mkey\u001b[0m\u001b[0;34m)\u001b[0m \u001b[0;32mfrom\u001b[0m \u001b[0merr\u001b[0m\u001b[0;34m\u001b[0m\u001b[0;34m\u001b[0m\u001b[0m\n\u001b[0m\u001b[1;32m   2901\u001b[0m \u001b[0;34m\u001b[0m\u001b[0m\n\u001b[1;32m   2902\u001b[0m         \u001b[0;32mif\u001b[0m \u001b[0mtolerance\u001b[0m \u001b[0;32mis\u001b[0m \u001b[0;32mnot\u001b[0m \u001b[0;32mNone\u001b[0m\u001b[0;34m:\u001b[0m\u001b[0;34m\u001b[0m\u001b[0;34m\u001b[0m\u001b[0m\n",
            "\u001b[0;31mKeyError\u001b[0m: 'HEI2015_TOTAL_SCORE'"
          ]
        }
      ]
    },
    {
      "cell_type": "code",
      "source": [
        "sns.barplot(x=\"phq_grp\", y=\"INDFMINC\", data=combinaçao)"
      ],
      "metadata": {
        "colab": {
          "base_uri": "https://localhost:8080/",
          "height": 298
        },
        "id": "2U6exvzKqWkJ",
        "outputId": "349f78e5-dde1-425f-d034-1e17d8fb608e"
      },
      "execution_count": 51,
      "outputs": [
        {
          "output_type": "execute_result",
          "data": {
            "text/plain": [
              "<matplotlib.axes._subplots.AxesSubplot at 0x7fe0c1800a50>"
            ]
          },
          "metadata": {},
          "execution_count": 51
        },
        {
          "output_type": "display_data",
          "data": {
            "image/png": "[encoded data removed]",
            "text/plain": [
              "<Figure size 432x288 with 1 Axes>"
            ]
          },
          "metadata": {
            "needs_background": "light"
          }
        }
      ]
    },
    {
      "cell_type": "code",
      "source": [
        "from scipy.stats import f_oneway\n",
        "combinaçao_aux = combinaçao[['phq_grp', 'INDFMINC']].dropna()\n",
        "stat, p = f_oneway(combinaçao_aux[(combinaçao_aux.phq_grp == 0)]['INDFMINC'],\n",
        "                  combinaçao_aux[(combinaçao_aux.phq_grp == 1)]['INDFMINC'],\n",
        "                  combinaçao_aux[(combinaçao_aux.phq_grp == 2)]['INDFMINC'],\n",
        "                  combinaçao_aux[(combinaçao_aux.phq_grp == 3)]['INDFMINC'],\n",
        "                  combinaçao_aux[(combinaçao_aux.phq_grp == 4)]['INDFMINC'])\n",
        "print('stat=%.3f, p=%.3f' % (stat, p))\n",
        "# Podemos afirmar que rendas abaixo de 20000,00 tem alguma associção com quadros mais severos de depressão"
      ],
      "metadata": {
        "colab": {
          "base_uri": "https://localhost:8080/"
        },
        "id": "GahQz3p5soas",
        "outputId": "9039c3d1-5d8a-4810-ef7f-f1bac13166d5"
      },
      "execution_count": 52,
      "outputs": [
        {
          "output_type": "stream",
          "name": "stdout",
          "text": [
            "stat=2.215, p=0.065\n"
          ]
        }
      ]
    },
    {
      "cell_type": "code",
      "source": [
        "sns.boxplot(x=\"phq_grp\", y=\"PAG_MINW_log\", data=combinaçao)"
      ],
      "metadata": {
        "colab": {
          "base_uri": "https://localhost:8080/",
          "height": 298
        },
        "id": "igNe8if2tRty",
        "outputId": "603f521a-acc8-47ec-9789-546f1635657a"
      },
      "execution_count": 54,
      "outputs": [
        {
          "output_type": "execute_result",
          "data": {
            "text/plain": [
              "<matplotlib.axes._subplots.AxesSubplot at 0x7fe0c1b58b10>"
            ]
          },
          "metadata": {},
          "execution_count": 54
        },
        {
          "output_type": "display_data",
          "data": {
            "image/png": "[encoded data removed]",
            "text/plain": [
              "<Figure size 432x288 with 1 Axes>"
            ]
          },
          "metadata": {
            "needs_background": "light"
          }
        }
      ]
    },
    {
      "cell_type": "code",
      "source": [
        "from scipy.stats import f_oneway\n",
        "combinaçao_aux = combinaçao[['phq_grp', 'PAG_MINW_log']].dropna()\n",
        "stat, p = f_oneway(combinaçao_aux[(combinaçao_aux.phq_grp == 0)]['PAG_MINW_log'],\n",
        "                  combinaçao_aux[(combinaçao_aux.phq_grp == 1)]['PAG_MINW_log'],\n",
        "                  combinaçao_aux[(combinaçao_aux.phq_grp == 2)]['PAG_MINW_log'],\n",
        "                  combinaçao_aux[(combinaçao_aux.phq_grp == 3)]['PAG_MINW_log'],\n",
        "                  combinaçao_aux[(combinaçao_aux.phq_grp == 4)]['PAG_MINW_log'])\n",
        "print('stat=%.3f, p=%.3f' % (stat, p))"
      ],
      "metadata": {
        "colab": {
          "base_uri": "https://localhost:8080/"
        },
        "id": "bB4zWpX0treV",
        "outputId": "2e0ad4af-2532-4512-9c59-4810733b96fe"
      },
      "execution_count": 55,
      "outputs": [
        {
          "output_type": "stream",
          "name": "stdout",
          "text": [
            "stat=13.281, p=0.000\n"
          ]
        }
      ]
    },
    {
      "cell_type": "code",
      "source": [
        "tukey = pairwise_tukeyhsd(combinaçao_aux['PAG_MINW_log'],\n",
        "                          combinaçao_aux['phq_grp'],\n",
        "                          alpha = 0.05)\n",
        "print(tukey)"
      ],
      "metadata": {
        "colab": {
          "base_uri": "https://localhost:8080/"
        },
        "id": "88KG0cj6uY2k",
        "outputId": "e5a9ec53-8fe3-41a9-f69d-1a71f524d6c5"
      },
      "execution_count": 64,
      "outputs": [
        {
          "output_type": "stream",
          "name": "stdout",
          "text": [
            "Multiple Comparison of Means - Tukey HSD, FWER=0.05 \n",
            "====================================================\n",
            "group1 group2 meandiff p-adj   lower   upper  reject\n",
            "----------------------------------------------------\n",
            "     0      1  -0.2611 0.1276 -0.5636  0.0413  False\n",
            "     0      2   -1.165  0.001 -1.6945 -0.6355   True\n",
            "     0      3  -0.8804 0.0747 -1.8122  0.0513  False\n",
            "     0      4  -1.4958 0.0347 -2.9236 -0.0681   True\n",
            "     1      2  -0.9039  0.001 -1.4972 -0.3105   True\n",
            "     1      3  -0.6193 0.4091 -1.5888  0.3502  False\n",
            "     1      4  -1.2347 0.1387 -2.6874   0.218  False\n",
            "     2      3   0.2846    0.9 -0.7779   1.347  False\n",
            "     2      4  -0.3309    0.9 -1.8472  1.1854  False\n",
            "     3      4  -0.6154 0.8444 -2.3145  1.0837  False\n",
            "----------------------------------------------------\n"
          ]
        }
      ]
    },
    {
      "cell_type": "markdown",
      "source": [
        "Podemos concluir que alimentação e praticas de exercicíos fisicos tem alguma relação com a falta de sintomas depressivos ou sintomas leves, assim como a falta deles estão associados com quadros mais graves. Entretando não podemos concluir que esses fatores são decisivos, por conta de alguns viéses que podem existir e não são identificados. Por exemplo: Será que as pessoas que praticam atividade não têm depressão ou são as pessoas depressivas que não têm ânimo para se exercitarem?  Pessoas que se alimentam bem não se tornam depressivas ou as pessoas depressivas comem 'mal\" para buscar algum prazer momentâneo com alimentos açucarados e/ou gordurosos? "
      ],
      "metadata": {
        "id": "miEagDFg0x-1"
      }
    }
  ],
  "metadata": {
    "colab": {
      "collapsed_sections": [],
      "name": "Desafio de inferencia",
      "provenance": [],
      "authorship_tag": "ABX9TyPsCHepAqEHh4thOX1dHVCV",
      "include_colab_link": true
    },
    "kernelspec": {
      "display_name": "Python 3",
      "name": "python3"
    },
    "language_info": {
      "name": "python"
    }
  },
  "nbformat": 4,
  "nbformat_minor": 0
}